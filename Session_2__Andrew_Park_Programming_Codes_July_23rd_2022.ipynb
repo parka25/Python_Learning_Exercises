{
  "nbformat": 4,
  "nbformat_minor": 0,
  "metadata": {
    "colab": {
      "name": "Session 2_ Andrew Park_Programming_Codes_July 23rd_2022.ipynb",
      "provenance": [],
      "collapsed_sections": [],
      "authorship_tag": "ABX9TyMN4tr8Gy2WbFYncxrZSe73",
      "include_colab_link": true
    },
    "kernelspec": {
      "name": "python3",
      "display_name": "Python 3"
    },
    "language_info": {
      "name": "python"
    }
  },
  "cells": [
    {
      "cell_type": "markdown",
      "metadata": {
        "id": "view-in-github",
        "colab_type": "text"
      },
      "source": [
        "<a href=\"https://colab.research.google.com/github/parka25/Test-Project/blob/main/Session_2__Andrew_Park_Programming_Codes_July_23rd_2022.ipynb\" target=\"_parent\"><img src=\"https://colab.research.google.com/assets/colab-badge.svg\" alt=\"Open In Colab\"/></a>"
      ]
    },
    {
      "cell_type": "code",
      "execution_count": null,
      "metadata": {
        "colab": {
          "base_uri": "https://localhost:8080/",
          "height": 134
        },
        "id": "36m7u5lgH_1Y",
        "outputId": "5d4cb840-de6d-4d25-fcdc-07e3af441a88"
      },
      "outputs": [
        {
          "output_type": "error",
          "ename": "SyntaxError",
          "evalue": "ignored",
          "traceback": [
            "\u001b[0;36m  File \u001b[0;32m\"<ipython-input-171-4ecfc66891f3>\"\u001b[0;36m, line \u001b[0;32m6\u001b[0m\n\u001b[0;31m    print (\"hello, friend\"\")\u001b[0m\n\u001b[0m                            ^\u001b[0m\n\u001b[0;31mSyntaxError\u001b[0m\u001b[0;31m:\u001b[0m EOL while scanning string literal\n"
          ]
        }
      ],
      "source": [
        "#ask the user for the name\n",
        "name = input(\"what is your name? \");\n",
        "print (\"hello,\", end=\"\") \n",
        "print (name);\n",
        "\n",
        "print (\"hello, friend\"\")\n",
        "print (\"hello, \\\"friend\\\"\")"
      ]
    },
    {
      "cell_type": "code",
      "source": [
        "print (\"hello, 'friend'\") "
      ],
      "metadata": {
        "colab": {
          "base_uri": "https://localhost:8080/"
        },
        "id": "RWWH6i9iKWiF",
        "outputId": "096787b0-14bc-43e9-bdb4-a135dcb734a8"
      },
      "execution_count": null,
      "outputs": [
        {
          "output_type": "stream",
          "name": "stdout",
          "text": [
            "hello, 'friend'\n"
          ]
        }
      ]
    },
    {
      "cell_type": "code",
      "source": [
        "print (\"hello, \\\"friend\\\"\")"
      ],
      "metadata": {
        "colab": {
          "base_uri": "https://localhost:8080/"
        },
        "id": "s1NaTASYKZu2",
        "outputId": "a96cf571-ceb6-4e02-d360-9232818101bc"
      },
      "execution_count": null,
      "outputs": [
        {
          "output_type": "stream",
          "name": "stdout",
          "text": [
            "hello, \"friend\"\n"
          ]
        }
      ]
    },
    {
      "cell_type": "code",
      "source": [
        "# Ask the user for the name\n",
        "name = input(\"what is you name? \")\n",
        "print (f\"hello, {name}\")"
      ],
      "metadata": {
        "colab": {
          "base_uri": "https://localhost:8080/",
          "height": 551
        },
        "id": "s2zWGxpKLCay",
        "outputId": "09e5c4f4-f36d-4716-8b3b-ed3f70be3c9c"
      },
      "execution_count": null,
      "outputs": [
        {
          "output_type": "error",
          "ename": "KeyboardInterrupt",
          "evalue": "ignored",
          "traceback": [
            "\u001b[0;31m---------------------------------------------------------------------------\u001b[0m",
            "\u001b[0;31mKeyboardInterrupt\u001b[0m                         Traceback (most recent call last)",
            "\u001b[0;32m/usr/local/lib/python3.7/dist-packages/ipykernel/kernelbase.py\u001b[0m in \u001b[0;36m_input_request\u001b[0;34m(self, prompt, ident, parent, password)\u001b[0m\n\u001b[1;32m    728\u001b[0m             \u001b[0;32mtry\u001b[0m\u001b[0;34m:\u001b[0m\u001b[0;34m\u001b[0m\u001b[0;34m\u001b[0m\u001b[0m\n\u001b[0;32m--> 729\u001b[0;31m                 \u001b[0mident\u001b[0m\u001b[0;34m,\u001b[0m \u001b[0mreply\u001b[0m \u001b[0;34m=\u001b[0m \u001b[0mself\u001b[0m\u001b[0;34m.\u001b[0m\u001b[0msession\u001b[0m\u001b[0;34m.\u001b[0m\u001b[0mrecv\u001b[0m\u001b[0;34m(\u001b[0m\u001b[0mself\u001b[0m\u001b[0;34m.\u001b[0m\u001b[0mstdin_socket\u001b[0m\u001b[0;34m,\u001b[0m \u001b[0;36m0\u001b[0m\u001b[0;34m)\u001b[0m\u001b[0;34m\u001b[0m\u001b[0;34m\u001b[0m\u001b[0m\n\u001b[0m\u001b[1;32m    730\u001b[0m             \u001b[0;32mexcept\u001b[0m \u001b[0mException\u001b[0m\u001b[0;34m:\u001b[0m\u001b[0;34m\u001b[0m\u001b[0;34m\u001b[0m\u001b[0m\n",
            "\u001b[0;32m/usr/local/lib/python3.7/dist-packages/jupyter_client/session.py\u001b[0m in \u001b[0;36mrecv\u001b[0;34m(self, socket, mode, content, copy)\u001b[0m\n\u001b[1;32m    802\u001b[0m         \u001b[0;32mtry\u001b[0m\u001b[0;34m:\u001b[0m\u001b[0;34m\u001b[0m\u001b[0;34m\u001b[0m\u001b[0m\n\u001b[0;32m--> 803\u001b[0;31m             \u001b[0mmsg_list\u001b[0m \u001b[0;34m=\u001b[0m \u001b[0msocket\u001b[0m\u001b[0;34m.\u001b[0m\u001b[0mrecv_multipart\u001b[0m\u001b[0;34m(\u001b[0m\u001b[0mmode\u001b[0m\u001b[0;34m,\u001b[0m \u001b[0mcopy\u001b[0m\u001b[0;34m=\u001b[0m\u001b[0mcopy\u001b[0m\u001b[0;34m)\u001b[0m\u001b[0;34m\u001b[0m\u001b[0;34m\u001b[0m\u001b[0m\n\u001b[0m\u001b[1;32m    804\u001b[0m         \u001b[0;32mexcept\u001b[0m \u001b[0mzmq\u001b[0m\u001b[0;34m.\u001b[0m\u001b[0mZMQError\u001b[0m \u001b[0;32mas\u001b[0m \u001b[0me\u001b[0m\u001b[0;34m:\u001b[0m\u001b[0;34m\u001b[0m\u001b[0;34m\u001b[0m\u001b[0m\n",
            "\u001b[0;32m/usr/local/lib/python3.7/dist-packages/zmq/sugar/socket.py\u001b[0m in \u001b[0;36mrecv_multipart\u001b[0;34m(self, flags, copy, track)\u001b[0m\n\u001b[1;32m    726\u001b[0m         \"\"\"\n\u001b[0;32m--> 727\u001b[0;31m         \u001b[0mparts\u001b[0m \u001b[0;34m=\u001b[0m \u001b[0;34m[\u001b[0m\u001b[0mself\u001b[0m\u001b[0;34m.\u001b[0m\u001b[0mrecv\u001b[0m\u001b[0;34m(\u001b[0m\u001b[0mflags\u001b[0m\u001b[0;34m,\u001b[0m \u001b[0mcopy\u001b[0m\u001b[0;34m=\u001b[0m\u001b[0mcopy\u001b[0m\u001b[0;34m,\u001b[0m \u001b[0mtrack\u001b[0m\u001b[0;34m=\u001b[0m\u001b[0mtrack\u001b[0m\u001b[0;34m)\u001b[0m\u001b[0;34m]\u001b[0m\u001b[0;34m\u001b[0m\u001b[0;34m\u001b[0m\u001b[0m\n\u001b[0m\u001b[1;32m    728\u001b[0m         \u001b[0;31m# have first part already, only loop while more to receive\u001b[0m\u001b[0;34m\u001b[0m\u001b[0;34m\u001b[0m\u001b[0;34m\u001b[0m\u001b[0m\n",
            "\u001b[0;32mzmq/backend/cython/socket.pyx\u001b[0m in \u001b[0;36mzmq.backend.cython.socket.Socket.recv\u001b[0;34m()\u001b[0m\n",
            "\u001b[0;32mzmq/backend/cython/socket.pyx\u001b[0m in \u001b[0;36mzmq.backend.cython.socket.Socket.recv\u001b[0;34m()\u001b[0m\n",
            "\u001b[0;32mzmq/backend/cython/socket.pyx\u001b[0m in \u001b[0;36mzmq.backend.cython.socket._recv_copy\u001b[0;34m()\u001b[0m\n",
            "\u001b[0;32m/usr/local/lib/python3.7/dist-packages/zmq/backend/cython/checkrc.pxd\u001b[0m in \u001b[0;36mzmq.backend.cython.checkrc._check_rc\u001b[0;34m()\u001b[0m\n",
            "\u001b[0;31mKeyboardInterrupt\u001b[0m: ",
            "\nDuring handling of the above exception, another exception occurred:\n",
            "\u001b[0;31mKeyboardInterrupt\u001b[0m                         Traceback (most recent call last)",
            "\u001b[0;32m<ipython-input-174-09ad7503b8e1>\u001b[0m in \u001b[0;36m<module>\u001b[0;34m()\u001b[0m\n\u001b[1;32m      1\u001b[0m \u001b[0;31m# Ask the user for the name\u001b[0m\u001b[0;34m\u001b[0m\u001b[0;34m\u001b[0m\u001b[0;34m\u001b[0m\u001b[0m\n\u001b[0;32m----> 2\u001b[0;31m \u001b[0mname\u001b[0m \u001b[0;34m=\u001b[0m \u001b[0minput\u001b[0m\u001b[0;34m(\u001b[0m\u001b[0;34m\"what is you name? \"\u001b[0m\u001b[0;34m)\u001b[0m\u001b[0;34m\u001b[0m\u001b[0;34m\u001b[0m\u001b[0m\n\u001b[0m\u001b[1;32m      3\u001b[0m \u001b[0mprint\u001b[0m \u001b[0;34m(\u001b[0m\u001b[0;34mf\"hello, {name}\"\u001b[0m\u001b[0;34m)\u001b[0m\u001b[0;34m\u001b[0m\u001b[0;34m\u001b[0m\u001b[0m\n",
            "\u001b[0;32m/usr/local/lib/python3.7/dist-packages/ipykernel/kernelbase.py\u001b[0m in \u001b[0;36mraw_input\u001b[0;34m(self, prompt)\u001b[0m\n\u001b[1;32m    702\u001b[0m             \u001b[0mself\u001b[0m\u001b[0;34m.\u001b[0m\u001b[0m_parent_ident\u001b[0m\u001b[0;34m,\u001b[0m\u001b[0;34m\u001b[0m\u001b[0;34m\u001b[0m\u001b[0m\n\u001b[1;32m    703\u001b[0m             \u001b[0mself\u001b[0m\u001b[0;34m.\u001b[0m\u001b[0m_parent_header\u001b[0m\u001b[0;34m,\u001b[0m\u001b[0;34m\u001b[0m\u001b[0;34m\u001b[0m\u001b[0m\n\u001b[0;32m--> 704\u001b[0;31m             \u001b[0mpassword\u001b[0m\u001b[0;34m=\u001b[0m\u001b[0;32mFalse\u001b[0m\u001b[0;34m,\u001b[0m\u001b[0;34m\u001b[0m\u001b[0;34m\u001b[0m\u001b[0m\n\u001b[0m\u001b[1;32m    705\u001b[0m         )\n\u001b[1;32m    706\u001b[0m \u001b[0;34m\u001b[0m\u001b[0m\n",
            "\u001b[0;32m/usr/local/lib/python3.7/dist-packages/ipykernel/kernelbase.py\u001b[0m in \u001b[0;36m_input_request\u001b[0;34m(self, prompt, ident, parent, password)\u001b[0m\n\u001b[1;32m    732\u001b[0m             \u001b[0;32mexcept\u001b[0m \u001b[0mKeyboardInterrupt\u001b[0m\u001b[0;34m:\u001b[0m\u001b[0;34m\u001b[0m\u001b[0;34m\u001b[0m\u001b[0m\n\u001b[1;32m    733\u001b[0m                 \u001b[0;31m# re-raise KeyboardInterrupt, to truncate traceback\u001b[0m\u001b[0;34m\u001b[0m\u001b[0;34m\u001b[0m\u001b[0;34m\u001b[0m\u001b[0m\n\u001b[0;32m--> 734\u001b[0;31m                 \u001b[0;32mraise\u001b[0m \u001b[0mKeyboardInterrupt\u001b[0m\u001b[0;34m\u001b[0m\u001b[0;34m\u001b[0m\u001b[0m\n\u001b[0m\u001b[1;32m    735\u001b[0m             \u001b[0;32melse\u001b[0m\u001b[0;34m:\u001b[0m\u001b[0;34m\u001b[0m\u001b[0;34m\u001b[0m\u001b[0m\n\u001b[1;32m    736\u001b[0m                 \u001b[0;32mbreak\u001b[0m\u001b[0;34m\u001b[0m\u001b[0;34m\u001b[0m\u001b[0m\n",
            "\u001b[0;31mKeyboardInterrupt\u001b[0m: "
          ]
        }
      ]
    },
    {
      "cell_type": "code",
      "source": [
        ""
      ],
      "metadata": {
        "id": "awH3PUA2LTUC"
      },
      "execution_count": null,
      "outputs": []
    },
    {
      "cell_type": "code",
      "source": [
        "#Wite the name\n",
        "name = input (\"write your name\")\n",
        "# Modification, split input value into a list \n",
        "name = name.split();\n",
        "print (name)\n",
        "# Make a joined stroning value out of the given list \n",
        "print (\"\". join(name))\n",
        "#print (\"\".join(name.split()))"
      ],
      "metadata": {
        "id": "Wq1Sp5TNNNxe"
      },
      "execution_count": null,
      "outputs": []
    },
    {
      "cell_type": "code",
      "source": [
        "# Ask the User for their name\n",
        "name = input(\"what is your name? \")\n",
        "\n",
        "#Capitlize the letters. \n",
        "name = name.title()\n",
        "\n",
        "#Print the value\n",
        "print(f\"hello, {name}\")"
      ],
      "metadata": {
        "id": "HoEkVWXIOWPI"
      },
      "execution_count": null,
      "outputs": []
    },
    {
      "cell_type": "code",
      "source": [
        "#Wite the name\n",
        "name = input (\"write your name\")\n",
        "# Modification, split input value into a list \n",
        "name2 = name.split();\n",
        "print (name2)\n",
        "# Make a joined stroning value out of the given list \n",
        "print (\"\". join(name2))\n",
        "print (\"\".join(name.split()))"
      ],
      "metadata": {
        "id": "6MLTDmhEPO7K"
      },
      "execution_count": null,
      "outputs": []
    },
    {
      "cell_type": "code",
      "source": [
        "# Make the variables\n",
        "\n",
        "x=2\n",
        "y=2\n",
        "\n",
        "z=x+y\n",
        "print (z)"
      ],
      "metadata": {
        "id": "yiKsff0iPhpB"
      },
      "execution_count": null,
      "outputs": []
    },
    {
      "cell_type": "code",
      "source": [
        "x = input(\"what is the value of x? \")\n",
        "y = input (\"what is the value of y? \")\n",
        "z = int(x) + int(y)\n",
        "print(z) "
      ],
      "metadata": {
        "id": "gi6pzTmfP-SY"
      },
      "execution_count": null,
      "outputs": []
    },
    {
      "cell_type": "code",
      "source": [
        "x = int(input(\"Value of X: \"))\n",
        "y = int(input(\"Value of y: \"))\n",
        "print (\"the multiply result is...\")\n",
        "print (x*y)\n"
      ],
      "metadata": {
        "id": "-Tpit8TUQeQS"
      },
      "execution_count": null,
      "outputs": []
    },
    {
      "cell_type": "code",
      "source": [
        "#using floats\n",
        "x = float(input(\"Value of x: \"))\n",
        "y = float(input(\"Value of y: \"))\n",
        "x = round(x+y)\n",
        "print (z)"
      ],
      "metadata": {
        "id": "cQg5_t9RSYT9"
      },
      "execution_count": null,
      "outputs": []
    },
    {
      "cell_type": "code",
      "source": [
        "x = float(input(\"Value of x: \"))\n",
        "y = float(input(\"Value of y: \"))\n",
        "z = round(x+y)\n",
        "print(f\"{z:,}\")"
      ],
      "metadata": {
        "id": "x-xXFRzaTbwz"
      },
      "execution_count": null,
      "outputs": []
    },
    {
      "cell_type": "code",
      "source": [
        "x = float(input(\"Value of x: \"))\n",
        "y = float(input(\"Value of y: \"))\n",
        "\n",
        "z = x/y \n",
        "\n",
        "print(z)"
      ],
      "metadata": {
        "id": "P2jflrG5T-Vj"
      },
      "execution_count": null,
      "outputs": []
    },
    {
      "cell_type": "code",
      "source": [
        "x = float(input(\"Value of x: \"))\n",
        "y = float(input(\"Value of y: \"))\n",
        "\n",
        "z = round(x/y, 2)\n",
        "\n",
        "print(z)"
      ],
      "metadata": {
        "id": "KyjVRRv3UGj_"
      },
      "execution_count": null,
      "outputs": []
    },
    {
      "cell_type": "code",
      "source": [
        "x = float(input(\"Value of x: \"))\n",
        "y = float(input(\"Value of y: \"))\n",
        "\n",
        "z = x/y\n",
        "\n",
        "print(f\"{z:.2f}\")"
      ],
      "metadata": {
        "id": "I3_PFs7eUZTG"
      },
      "execution_count": null,
      "outputs": []
    },
    {
      "cell_type": "code",
      "source": [
        "name = input(\"니 이름이 뭐니\").title()\n",
        "hello()\n",
        "print(name)\n"
      ],
      "metadata": {
        "id": "wjA5GapvUnbr"
      },
      "execution_count": null,
      "outputs": []
    },
    {
      "cell_type": "code",
      "source": [
        "def hello():\n",
        "  print(\"hello\")\n",
        "\n",
        "name = input(\"What is your name\").title()\n",
        "hello()\n",
        "print(name)"
      ],
      "metadata": {
        "id": "xBd2udMiU6o2"
      },
      "execution_count": null,
      "outputs": []
    },
    {
      "cell_type": "code",
      "source": [
        "def hello(to):\n",
        "  print(\"hello,\", to)\n",
        "\n",
        "name = input(\"What is your name? \")\n",
        "hello(name)"
      ],
      "metadata": {
        "id": "RWxSA_nTVRVo"
      },
      "execution_count": null,
      "outputs": []
    },
    {
      "cell_type": "code",
      "source": [
        "def hello(to=\"World\"):\n",
        "  print(\"hello,\", to)\n",
        "\n",
        "name = input(\"What is your name? \")\n",
        "hello(name)\n",
        "\n",
        "hello()"
      ],
      "metadata": {
        "id": "3EMIJvgZWLq8"
      },
      "execution_count": null,
      "outputs": []
    },
    {
      "cell_type": "code",
      "source": [
        "def main ():\n",
        "\n",
        "  name = input(\"What is your name? \")\n",
        "  hello(name)\n",
        "\n",
        "  hello()\n",
        "  \n",
        "def hello(to=\"world\"):\n",
        "  print(\"hello,\", to)\n",
        "\n",
        "main()"
      ],
      "metadata": {
        "id": "tot_281CWqUO"
      },
      "execution_count": null,
      "outputs": []
    },
    {
      "cell_type": "code",
      "source": [
        "def main():\n",
        "    x = int(input(\"what is x \"))\n",
        "    print(\"x squared is\", square(x))\n",
        "def square(n):\n",
        "  return n*n\n",
        "\n",
        "main()"
      ],
      "metadata": {
        "id": "V4WrYsToXQRS"
      },
      "execution_count": null,
      "outputs": []
    },
    {
      "cell_type": "code",
      "source": [
        "x = int(input(\"Value of X: \"))\n",
        "y = int(input(\"Value of y: \"))\n",
        "\n",
        "if (x < y): \n",
        "  print(\"x is less than y\")\n",
        "elif (x > y):\n",
        "  print(\"x is more than y\")\n",
        "elif (x == y):\n",
        "  print(\"x is same to y\")"
      ],
      "metadata": {
        "id": "i8qxexLWYdSg"
      },
      "execution_count": null,
      "outputs": []
    },
    {
      "cell_type": "code",
      "source": [
        "if x < y or x > y: \n",
        "  print(\"x is not equal to y\")\n",
        "else:\n",
        "  print(\"x is equal to y\")"
      ],
      "metadata": {
        "id": "Nlbzl6mlaBa7"
      },
      "execution_count": null,
      "outputs": []
    },
    {
      "cell_type": "code",
      "source": [
        "if x != y: \n",
        "  print(\"x is not equal to y\")\n",
        "else:\n",
        "  print(\"x is equal to y\")"
      ],
      "metadata": {
        "id": "VXTvYa6NaWIs"
      },
      "execution_count": null,
      "outputs": []
    },
    {
      "cell_type": "code",
      "source": [
        "if x == y: \n",
        "   print(\"x is equal to y\")\n",
        "else:\n",
        "  print(\"x is not equal to y\")"
      ],
      "metadata": {
        "id": "7u40sgSyahXw"
      },
      "execution_count": null,
      "outputs": []
    },
    {
      "cell_type": "code",
      "source": [
        "score = int(input(\"Score: \"))\n",
        "\n",
        "if score >= 90 and score <= 100: \n",
        "  print(\"A --- sian\")\n",
        "elif score >= 80 and score <= 90:\n",
        "  print(\"B? death\")\n",
        "elif score >= 70 and score <= 80:\n",
        "  print (\"C?????\")\n",
        "elif score >= 60 and score <= 70:\n",
        "  print (\"done...D\")\n",
        "else:\n",
        "  print(\"........\")"
      ],
      "metadata": {
        "id": "zM1yZsv1apmI"
      },
      "execution_count": null,
      "outputs": []
    },
    {
      "cell_type": "code",
      "source": [
        "score = int(input(\"Score: \"))\n",
        "\n",
        "if 90 <= score <= 100: \n",
        "  print(\"A --- sian\")\n",
        "elif 90 <= score <= 100:\n",
        "  print(\"B? death\")\n",
        "elif 90 <= score <= 100:\n",
        "  print (\"C?????\")\n",
        "elif 90 <= score <= 100:\n",
        "  print (\"done...D\")\n",
        "else: \n",
        "  print(\"........\")"
      ],
      "metadata": {
        "id": "OgpUEVssbUMF"
      },
      "execution_count": null,
      "outputs": []
    },
    {
      "cell_type": "code",
      "source": [
        "score = int(input(\"Score: \"))\n",
        "\n",
        "if score >= 90: \n",
        "  print(\"A --- sian\")\n",
        "elif score >= 80:\n",
        "  print(\"B? death\")\n",
        "elif score >= 70:\n",
        "  print (\"C?????\")\n",
        "elif score >= 60:\n",
        "  print (\"done...D\")\n",
        "else: \n",
        "  print(\"........\")"
      ],
      "metadata": {
        "id": "X132mfpMb-hs"
      },
      "execution_count": null,
      "outputs": []
    },
    {
      "cell_type": "code",
      "source": [
        "x = int(input(\"what is x: \"))\n",
        "\n",
        "if x % 2 == 0:\n",
        "  print(\"x is even\")\n",
        "else:\n",
        "  print(\"x is odd\")"
      ],
      "metadata": {
        "id": "k6bYE67Bcd1Z"
      },
      "execution_count": null,
      "outputs": []
    },
    {
      "cell_type": "code",
      "source": [
        "def main():\n",
        "  x = int(input(\"what is x: \"))\n",
        "  \n",
        "  if x % 2 == 0:\n",
        "    print(\"x is even\")\n",
        "  else:\n",
        "    print(\"x is odd\")\n",
        "\n",
        "def is_even (n):\n",
        "  if n % 2 == 0:\n",
        "    return True\n",
        "  else:\n",
        "    return false \n",
        "\n",
        "main()"
      ],
      "metadata": {
        "id": "bL46E_eEctow"
      },
      "execution_count": null,
      "outputs": []
    },
    {
      "cell_type": "code",
      "source": [
        "def main():\n",
        "  x = int(input(\"what is x: \"))\n",
        "  \n",
        "  if x % 2 == 0:\n",
        "    print(\"x is even\")\n",
        "  else:\n",
        "    print(\"x is odd\")\n",
        "\n",
        "def is_even (n):\n",
        "  return True if n % 2 == 0 else False\n",
        "\n",
        "main()"
      ],
      "metadata": {
        "id": "YzTUAPoxdFST"
      },
      "execution_count": null,
      "outputs": []
    },
    {
      "cell_type": "code",
      "source": [
        "def main():\n",
        "  x = int(input(\"what is x: \"))\n",
        "  \n",
        "  if x % 2 == 0:\n",
        "    print(\"x is even\")\n",
        "  else:\n",
        "    print(\"x is odd\")\n",
        "\n",
        "def is_even(n): \n",
        "  return n % 2 == 0 \n",
        "\n",
        "main()"
      ],
      "metadata": {
        "id": "AmFmYY20cgEd"
      },
      "execution_count": null,
      "outputs": []
    },
    {
      "cell_type": "code",
      "source": [
        "i = 3\n",
        "while i !=0: \n",
        "  print(\"meow\")\n",
        "  i = i-1"
      ],
      "metadata": {
        "id": "x9zEFR2-d9dO"
      },
      "execution_count": null,
      "outputs": []
    },
    {
      "cell_type": "code",
      "source": [
        "i = 1\n",
        "while i <= 3: \n",
        "  print(\"오소이\")\n",
        "  i = i+1"
      ],
      "metadata": {
        "id": "Ukyk4qHzeqnh"
      },
      "execution_count": null,
      "outputs": []
    },
    {
      "cell_type": "code",
      "source": [
        "i = 0 \n",
        "while i < 3:\n",
        "  print(\"hello\")\n",
        "  i += 1"
      ],
      "metadata": {
        "id": "c-VZGTl3e7rX"
      },
      "execution_count": null,
      "outputs": []
    },
    {
      "cell_type": "code",
      "source": [
        "for i in [0, 1, 2]: \n",
        "  print (\"hewo\")"
      ],
      "metadata": {
        "id": "z00SDc_7fK4f"
      },
      "execution_count": null,
      "outputs": []
    },
    {
      "cell_type": "code",
      "source": [
        "print(\"meow \"  * 3)"
      ],
      "metadata": {
        "id": "SPCee5d_fcJp"
      },
      "execution_count": null,
      "outputs": []
    },
    {
      "cell_type": "code",
      "source": [
        "print(\"meow\\n\" * 3, end=\"\")"
      ],
      "metadata": {
        "id": "EclR4yu3fotm"
      },
      "execution_count": null,
      "outputs": []
    },
    {
      "cell_type": "code",
      "source": [
        "while True: \n",
        "  n = int(input(\"What is n? \"))\n",
        "  if n>0: \n",
        "    break; \n",
        "\n",
        "for _ in range(n):\n",
        "  print (\"meow\")"
      ],
      "metadata": {
        "id": "zN5eHFmXfwxM"
      },
      "execution_count": null,
      "outputs": []
    },
    {
      "cell_type": "code",
      "source": [
        "def main ():\n",
        "  number = get_number()\n",
        "  meow(number)\n",
        "\n",
        "def get_number():\n",
        "  while True: \n",
        "    n = int(input (\"what is n? \"))\n",
        "    if n > 0:\n",
        "      break;\n",
        "  return n\n",
        "\n",
        "def meow(n):\n",
        "  for _ in range(n):\n",
        "    print(\"meow\")\n",
        "\n",
        "main()"
      ],
      "metadata": {
        "id": "3XM-vpUEgLvP"
      },
      "execution_count": null,
      "outputs": []
    },
    {
      "cell_type": "code",
      "source": [
        "students = [\"Andrew Park\", \"Derrick Park\", \"Sean Lee\"]\n",
        "print(students [0])\n",
        "print(students [1])\n",
        "print(students [2])"
      ],
      "metadata": {
        "id": "6ixJd4Whhfl9"
      },
      "execution_count": null,
      "outputs": []
    },
    {
      "cell_type": "code",
      "source": [
        "students = [\"Andrew Park\", \"Derrick Park\", \"Sean Lee\"]\n",
        "\n",
        "for student in students: \n",
        "  print(student)"
      ],
      "metadata": {
        "id": "lpml4sKBh1oW"
      },
      "execution_count": null,
      "outputs": []
    },
    {
      "cell_type": "code",
      "source": [
        "students = [\"Andrew Park\", \"Derrick Park\", \"Sean Lee\"]\n",
        "\n",
        "for i in range(len(students)):\n",
        "  print(i+1 + \".\", students[i])\n"
      ],
      "metadata": {
        "id": "joEXhAluh2Un"
      },
      "execution_count": null,
      "outputs": []
    },
    {
      "cell_type": "code",
      "source": [
        "students = [\"Andrew Park\", \"Matthew Yoon\", \"Andy Hwang\", \"Louis Park\"]\n",
        "houess = [\"Kravis\", \"Taylor\", \"Flagler\", \"Meyer\"]\n",
        "\n",
        "students = {\n",
        "    \"Andrew Park\": \"Kravis\",\n",
        "    \"Matthew Yoon\": \"Taylor\",\n",
        "    \"Andy Hwang\": \"Flagler\",\n",
        "    \"Louis Park\": \"Meyer\"\n",
        "}\n",
        "\n",
        "print (students[\"Andrew Park\"])\n",
        "print (students[\"Louis Park\"])\n",
        "print (students[\"Matthew Yoon\"])\n",
        "print (students[\"Andy Hwang\"])\n",
        "\n"
      ],
      "metadata": {
        "id": "ZqcXpQGPiuXa"
      },
      "execution_count": null,
      "outputs": []
    },
    {
      "cell_type": "code",
      "source": [
        "\n",
        "student = [\"Andrew Park\", \"Matthew Yoon\", \"Andy Hwang\", \"Louis Park\"]\n",
        "houess = [\"Kravis\", \"Taylor\", \"Flagler\", \"Meyer\"]\n",
        "\n",
        "students = {\n",
        "    \"Andrew Park\": \"Kravis\",\n",
        "    \"Matthew Yoon\": \"Taylor\",\n",
        "    \"Andy Hwang\": \"Flagler\",\n",
        "    \"Louis Park\": \"Meyer\"\n",
        "}\n",
        "\n",
        "for students in students: \n",
        "  print(student, students[student])"
      ],
      "metadata": {
        "id": "mDfMjYQAkCAy"
      },
      "execution_count": null,
      "outputs": []
    },
    {
      "cell_type": "code",
      "source": [
        "students = [\n",
        "    {\"name\":\"Andrew Park\", \"House\":\"Kravis\", \"Head\":\"Mr.Borek\"},\n",
        "    {\"name\":\"Louis Park\", \"House\":\"Meyer\", \"Head\": \"Mr Harlow\"},\n",
        "    {\"name\":\"Andy Hwang\", \"House\":\"Flagler\", \"Head\": \"킹갓슬로\"},\n",
        "    {\"name\":\"Matthew Yoon\", \"House\":\"Taylor\", \"Head\": \"Who?\"}\n",
        "]\n",
        "for student in students: \n",
        "  print(student[\"name\"], student[\"House\"], student[\"Head\"], sep=\", \")"
      ],
      "metadata": {
        "id": "V-yrojiXkdFr"
      },
      "execution_count": null,
      "outputs": []
    },
    {
      "cell_type": "code",
      "source": [
        "for _ in range(3):\n",
        "  print(\"#\")\n"
      ],
      "metadata": {
        "id": "GulMZ325mhyz"
      },
      "execution_count": null,
      "outputs": []
    },
    {
      "cell_type": "code",
      "source": [
        "def main():\n",
        "  print_column\n",
        "\n",
        "def print_column(height):\n",
        "  for _ in range(height):\n",
        "    print(\"#\")\n",
        "\n",
        "main()"
      ],
      "metadata": {
        "id": "i-skcWp-msXG"
      },
      "execution_count": null,
      "outputs": []
    },
    {
      "cell_type": "code",
      "source": [
        "def main():\n",
        "  print_square(3)\n",
        "\n",
        "def print_square(size):\n",
        "\n",
        "  for i in range(size):\n",
        "    for j in range(size):\n",
        "      print(\"#\", end=\"\")\n",
        "\n",
        "    print()\n",
        "\n",
        "main()"
      ],
      "metadata": {
        "id": "uXvX4ThDnAhY"
      },
      "execution_count": null,
      "outputs": []
    },
    {
      "cell_type": "code",
      "source": [
        "def main():\n",
        "  print_square(3) \n",
        "\n",
        "def print_square(size):\n",
        "  for i in range(size):\n",
        "    print_row(size)\n",
        "\n",
        "def print_row(width):\n",
        "  print(\"#\" * width)\n",
        "\n",
        "main()"
      ],
      "metadata": {
        "id": "so06B14Mn0Ge"
      },
      "execution_count": null,
      "outputs": []
    },
    {
      "cell_type": "code",
      "source": [
        "# Define the function of printing the name, and print the function of print_name\n",
        "def main():\n",
        "  print_name(8)\n",
        "\n",
        "# Define print_name function\n",
        "def print_name(name):\n",
        "  # in range of the given number of print_name(x) repeat the action of printing the name until i reaches the value of x\n",
        "  for i in range(name): \n",
        "    #printing action\n",
        "    print(\"any_name\")\n",
        "#activate main function \n",
        "main()"
      ],
      "metadata": {
        "id": "kHuYaq2XooQf"
      },
      "execution_count": null,
      "outputs": []
    }
  ]
}