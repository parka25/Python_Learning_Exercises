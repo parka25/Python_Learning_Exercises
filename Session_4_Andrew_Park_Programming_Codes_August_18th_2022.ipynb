{
  "nbformat": 4,
  "nbformat_minor": 0,
  "metadata": {
    "colab": {
      "name": " Session_4_Andrew_Park_Programming_Codes_August_18th_2022.ipynb",
      "provenance": [],
      "authorship_tag": "ABX9TyP6SLM8mUciVYMz3KioMECx",
      "include_colab_link": true
    },
    "kernelspec": {
      "name": "python3",
      "display_name": "Python 3"
    },
    "language_info": {
      "name": "python"
    }
  },
  "cells": [
    {
      "cell_type": "markdown",
      "metadata": {
        "id": "view-in-github",
        "colab_type": "text"
      },
      "source": [
        "<a href=\"https://colab.research.google.com/github/parka25/Test-Project/blob/main/Session_4_Andrew_Park_Programming_Codes_August_18th_2022.ipynb\" target=\"_parent\"><img src=\"https://colab.research.google.com/assets/colab-badge.svg\" alt=\"Open In Colab\"/></a>"
      ]
    },
    {
      "cell_type": "code",
      "execution_count": 7,
      "metadata": {
        "colab": {
          "base_uri": "https://localhost:8080/"
        },
        "id": "nIqbXqW6Ui2G",
        "outputId": "d8f1d42b-0c8b-45d7-8272-0c6147870eb2"
      },
      "outputs": [
        {
          "output_type": "stream",
          "name": "stdout",
          "text": [
            "Overwriting code_calculator.py\n"
          ]
        }
      ],
      "source": [
        "%%writefile code_calculator.py\n",
        "\n",
        "def main():\n",
        "  x = int(input(\"what is x? \"))\n",
        "  print(\"x squared is\", square(x))\n",
        "\n",
        "def square(n):\n",
        "  return n * n\n",
        "\n",
        "if __name__ == \"__main__\":\n",
        "  main() "
      ]
    },
    {
      "cell_type": "code",
      "source": [
        "%run code_calculator.py "
      ],
      "metadata": {
        "colab": {
          "base_uri": "https://localhost:8080/"
        },
        "id": "lddmsHjuVzII",
        "outputId": "d999461e-cf34-451b-f77d-9ea89411ec85"
      },
      "execution_count": 8,
      "outputs": [
        {
          "output_type": "stream",
          "name": "stdout",
          "text": [
            "what is x? 1234567\n",
            "x squared is 1524155677489\n"
          ]
        }
      ]
    },
    {
      "cell_type": "code",
      "source": [
        "%%writefile test_calculator.py\n",
        "\n",
        "from code_calculator import square\n",
        "\n",
        "def main():\n",
        "  test_square()\n",
        "\n",
        "def test_square():\n",
        "  if square(2) != 4:\n",
        "    print(\"2 squared was not 4\")\n",
        "  if square(3) != 9:\n",
        "    print(\"3 squared was not 9\")\n",
        "\n",
        "if __name__ == \"__main__\":\n",
        "  main()"
      ],
      "metadata": {
        "colab": {
          "base_uri": "https://localhost:8080/"
        },
        "id": "u1oWcetSWwa0",
        "outputId": "fb1d2598-58f9-49c9-fa2d-a0e73ecb3640"
      },
      "execution_count": 11,
      "outputs": [
        {
          "output_type": "stream",
          "name": "stdout",
          "text": [
            "Overwriting test_calculator.py\n"
          ]
        }
      ]
    },
    {
      "cell_type": "code",
      "source": [
        "%run test_calculator.py"
      ],
      "metadata": {
        "id": "JY0FSplrXjeG"
      },
      "execution_count": 13,
      "outputs": []
    },
    {
      "cell_type": "code",
      "source": [
        "%%writefile test_calculator2.py\n",
        "\n",
        "from code_calculator import square\n",
        "\n",
        "def main():\n",
        "  test_square()\n",
        "\n",
        "def test_square():\n",
        "  assert square(2) == 4\n",
        "  assert square(3) == 9 \n",
        "\n",
        "if __name__ == \"__main__\":\n",
        "  main()"
      ],
      "metadata": {
        "colab": {
          "base_uri": "https://localhost:8080/"
        },
        "id": "mEOE-9IJYZvB",
        "outputId": "17cbe3d0-2cb8-4237-ba0d-b661751a2b5e"
      },
      "execution_count": 18,
      "outputs": [
        {
          "output_type": "stream",
          "name": "stdout",
          "text": [
            "Overwriting test_calculator2.py\n"
          ]
        }
      ]
    },
    {
      "cell_type": "code",
      "source": [
        "%run test_calculator2.py"
      ],
      "metadata": {
        "id": "cP78kZ4xY6ea"
      },
      "execution_count": 19,
      "outputs": []
    },
    {
      "cell_type": "code",
      "source": [
        "%%writefile code_calculator2.py\n",
        "\n",
        "def main():\n",
        "  x = int(input(\"What is x? \"))\n",
        "  print(\"x squared is\", square(x))\n",
        "\n",
        "def square(n):\n",
        "  return n + n \n",
        "\n",
        "if __name__ == \"__main__\":\n",
        "  main()"
      ],
      "metadata": {
        "colab": {
          "base_uri": "https://localhost:8080/"
        },
        "id": "GTOtRl-cZOY8",
        "outputId": "517fca54-8d9d-4614-8178-20960cf0fc2b"
      },
      "execution_count": 46,
      "outputs": [
        {
          "output_type": "stream",
          "name": "stdout",
          "text": [
            "Overwriting code_calculator2.py\n"
          ]
        }
      ]
    },
    {
      "cell_type": "code",
      "source": [
        "%%writefile test_calculator3.py\n",
        "\n",
        "from code_calculator2 import square\n",
        "\n",
        "def main():\n",
        "  test_square()\n",
        "\n",
        "def test_square():\n",
        "  assert square(2) == 4\n",
        "  assert square(3) == 9 \n",
        "\n",
        "if __name__ == \"__main__\":\n",
        "  main()"
      ],
      "metadata": {
        "colab": {
          "base_uri": "https://localhost:8080/"
        },
        "id": "aJtKpjwcZjQY",
        "outputId": "9f4199c6-aace-49ef-97e2-6be546eb544d"
      },
      "execution_count": 47,
      "outputs": [
        {
          "output_type": "stream",
          "name": "stdout",
          "text": [
            "Overwriting test_calculator3.py\n"
          ]
        }
      ]
    },
    {
      "cell_type": "code",
      "source": [
        "%run test_calculator3.py"
      ],
      "metadata": {
        "colab": {
          "base_uri": "https://localhost:8080/",
          "height": 331
        },
        "id": "NSzr2iuBaCs9",
        "outputId": "1124017f-7c00-477f-f2e4-dcd12c9b9b7f"
      },
      "execution_count": 48,
      "outputs": [
        {
          "output_type": "error",
          "ename": "AssertionError",
          "evalue": "ignored",
          "traceback": [
            "\u001b[0;31m---------------------------------------------------------------------------\u001b[0m",
            "\u001b[0;31mAssertionError\u001b[0m                            Traceback (most recent call last)",
            "\u001b[0;32m/content/test_calculator3.py\u001b[0m in \u001b[0;36m<module>\u001b[0;34m\u001b[0m\n\u001b[1;32m     10\u001b[0m \u001b[0;34m\u001b[0m\u001b[0m\n\u001b[1;32m     11\u001b[0m \u001b[0;32mif\u001b[0m \u001b[0m__name__\u001b[0m \u001b[0;34m==\u001b[0m \u001b[0;34m\"__main__\"\u001b[0m\u001b[0;34m:\u001b[0m\u001b[0;34m\u001b[0m\u001b[0;34m\u001b[0m\u001b[0m\n\u001b[0;32m---> 12\u001b[0;31m   \u001b[0mmain\u001b[0m\u001b[0;34m(\u001b[0m\u001b[0;34m)\u001b[0m\u001b[0;34m\u001b[0m\u001b[0;34m\u001b[0m\u001b[0m\n\u001b[0m",
            "\u001b[0;32m/content/test_calculator3.py\u001b[0m in \u001b[0;36mmain\u001b[0;34m()\u001b[0m\n\u001b[1;32m      3\u001b[0m \u001b[0;34m\u001b[0m\u001b[0m\n\u001b[1;32m      4\u001b[0m \u001b[0;32mdef\u001b[0m \u001b[0mmain\u001b[0m\u001b[0;34m(\u001b[0m\u001b[0;34m)\u001b[0m\u001b[0;34m:\u001b[0m\u001b[0;34m\u001b[0m\u001b[0;34m\u001b[0m\u001b[0m\n\u001b[0;32m----> 5\u001b[0;31m   \u001b[0mtest_square\u001b[0m\u001b[0;34m(\u001b[0m\u001b[0;34m)\u001b[0m\u001b[0;34m\u001b[0m\u001b[0;34m\u001b[0m\u001b[0m\n\u001b[0m\u001b[1;32m      6\u001b[0m \u001b[0;34m\u001b[0m\u001b[0m\n\u001b[1;32m      7\u001b[0m \u001b[0;32mdef\u001b[0m \u001b[0mtest_square\u001b[0m\u001b[0;34m(\u001b[0m\u001b[0;34m)\u001b[0m\u001b[0;34m:\u001b[0m\u001b[0;34m\u001b[0m\u001b[0;34m\u001b[0m\u001b[0m\n",
            "\u001b[0;32m/content/test_calculator3.py\u001b[0m in \u001b[0;36mtest_square\u001b[0;34m()\u001b[0m\n\u001b[1;32m      7\u001b[0m \u001b[0;32mdef\u001b[0m \u001b[0mtest_square\u001b[0m\u001b[0;34m(\u001b[0m\u001b[0;34m)\u001b[0m\u001b[0;34m:\u001b[0m\u001b[0;34m\u001b[0m\u001b[0;34m\u001b[0m\u001b[0m\n\u001b[1;32m      8\u001b[0m   \u001b[0;32massert\u001b[0m \u001b[0msquare\u001b[0m\u001b[0;34m(\u001b[0m\u001b[0;36m2\u001b[0m\u001b[0;34m)\u001b[0m \u001b[0;34m==\u001b[0m \u001b[0;36m4\u001b[0m\u001b[0;34m\u001b[0m\u001b[0;34m\u001b[0m\u001b[0m\n\u001b[0;32m----> 9\u001b[0;31m   \u001b[0;32massert\u001b[0m \u001b[0msquare\u001b[0m\u001b[0;34m(\u001b[0m\u001b[0;36m3\u001b[0m\u001b[0;34m)\u001b[0m \u001b[0;34m==\u001b[0m \u001b[0;36m9\u001b[0m\u001b[0;34m\u001b[0m\u001b[0;34m\u001b[0m\u001b[0m\n\u001b[0m\u001b[1;32m     10\u001b[0m \u001b[0;34m\u001b[0m\u001b[0m\n\u001b[1;32m     11\u001b[0m \u001b[0;32mif\u001b[0m \u001b[0m__name__\u001b[0m \u001b[0;34m==\u001b[0m \u001b[0;34m\"__main__\"\u001b[0m\u001b[0;34m:\u001b[0m\u001b[0;34m\u001b[0m\u001b[0;34m\u001b[0m\u001b[0m\n",
            "\u001b[0;31mAssertionError\u001b[0m: "
          ]
        }
      ]
    },
    {
      "cell_type": "code",
      "source": [
        "%%writefile test_calculator4.py\n",
        "\n",
        "from code_calculator import square\n",
        "\n",
        "def main():\n",
        "  test_square()\n",
        "\n",
        "def test_square():\n",
        "  try:\n",
        "    assert square(2) == 4\n",
        "  except AssertionError: \n",
        "    print(\"2 squared is not 4\")\n",
        "  try:\n",
        "    assert square(3) == 9\n",
        "  except AssertionError: \n",
        "    print(\"3 squared is not 9\")\n",
        "  try:\n",
        "    assert square(-2) == 4\n",
        "  except AssertionError:  \n",
        "    print(\"-2 squared is not 4\")\n",
        "  try:\n",
        "    assert square(-3) == 9\n",
        "  except AssertionError: \n",
        "    print(\"-3 squared is not 9\")\n",
        "  try:\n",
        "    assert square(0) == 0\n",
        "  except AssertionError:  \n",
        "    print(\"0 squared is not 0\")\n",
        "\n",
        "if __name__ == \"__main__\":\n",
        "  main()"
      ],
      "metadata": {
        "colab": {
          "base_uri": "https://localhost:8080/"
        },
        "id": "I0uqoplCceh6",
        "outputId": "63913f05-6c5a-412d-8844-dcadb7413a3e"
      },
      "execution_count": 53,
      "outputs": [
        {
          "output_type": "stream",
          "name": "stdout",
          "text": [
            "Overwriting test_calculator4.py\n"
          ]
        }
      ]
    },
    {
      "cell_type": "code",
      "source": [
        "%run test_calculator4.py"
      ],
      "metadata": {
        "id": "UamxuTJ5dQwN"
      },
      "execution_count": 54,
      "outputs": []
    },
    {
      "cell_type": "code",
      "source": [
        "%%writefile test_calculator5.py\n",
        "\n",
        "from code_calculator2 import square\n",
        "\n",
        "def main():\n",
        "  test_square()\n",
        "\n",
        "def test_square():\n",
        "  try:\n",
        "    assert square(2) == 4\n",
        "  except AssertionError: \n",
        "    print(\"2 squared is not 4\")\n",
        "  try:\n",
        "    assert square(3) == 9\n",
        "  except AssertionError: \n",
        "    print(\"3 squared is not 9\")\n",
        "  try:\n",
        "    assert square(-2) == 4\n",
        "  except AssertionError:  \n",
        "    print(\"-2 squared is not 4\")\n",
        "  try:\n",
        "    assert square(-3) == 9\n",
        "  except AssertionError: \n",
        "    print(\"-3 squared is not 9\")\n",
        "  try:\n",
        "    assert square(0) == 0\n",
        "  except AssertionError:  \n",
        "    print(\"0 squared is not 0\")\n",
        "\n",
        "if __name__ == \"__main__\":\n",
        "  main()"
      ],
      "metadata": {
        "colab": {
          "base_uri": "https://localhost:8080/"
        },
        "id": "ngGt6NbPdYZy",
        "outputId": "25a84c40-1880-4fca-d1cd-57f37d3fc424"
      },
      "execution_count": 57,
      "outputs": [
        {
          "output_type": "stream",
          "name": "stdout",
          "text": [
            "Overwriting test_calculator5.py\n"
          ]
        }
      ]
    },
    {
      "cell_type": "code",
      "source": [
        "%run test_calculator5.py"
      ],
      "metadata": {
        "colab": {
          "base_uri": "https://localhost:8080/"
        },
        "id": "Myvcu0LoddSS",
        "outputId": "af0b4cee-3e00-446f-f4be-6527908f41f7"
      },
      "execution_count": 58,
      "outputs": [
        {
          "output_type": "stream",
          "name": "stdout",
          "text": [
            "3 squared is not 9\n",
            "-2 squared is not 4\n",
            "-3 squared is not 9\n"
          ]
        }
      ]
    },
    {
      "cell_type": "code",
      "source": [
        "!pip install pytest"
      ],
      "metadata": {
        "colab": {
          "base_uri": "https://localhost:8080/"
        },
        "id": "aGN9Lw9Yd9V1",
        "outputId": "9fd43d87-421c-47f0-c3a5-2506290b3e22"
      },
      "execution_count": 59,
      "outputs": [
        {
          "output_type": "stream",
          "name": "stdout",
          "text": [
            "Looking in indexes: https://pypi.org/simple, https://us-python.pkg.dev/colab-wheels/public/simple/\n",
            "Requirement already satisfied: pytest in /usr/local/lib/python3.7/dist-packages (3.6.4)\n",
            "Requirement already satisfied: attrs>=17.4.0 in /usr/local/lib/python3.7/dist-packages (from pytest) (22.1.0)\n",
            "Requirement already satisfied: py>=1.5.0 in /usr/local/lib/python3.7/dist-packages (from pytest) (1.11.0)\n",
            "Requirement already satisfied: setuptools in /usr/local/lib/python3.7/dist-packages (from pytest) (57.4.0)\n",
            "Requirement already satisfied: more-itertools>=4.0.0 in /usr/local/lib/python3.7/dist-packages (from pytest) (8.14.0)\n",
            "Requirement already satisfied: six>=1.10.0 in /usr/local/lib/python3.7/dist-packages (from pytest) (1.15.0)\n",
            "Requirement already satisfied: atomicwrites>=1.0 in /usr/local/lib/python3.7/dist-packages (from pytest) (1.4.1)\n",
            "Requirement already satisfied: pluggy<0.8,>=0.5 in /usr/local/lib/python3.7/dist-packages (from pytest) (0.7.1)\n"
          ]
        }
      ]
    },
    {
      "cell_type": "code",
      "source": [
        "%%writefile test_calculator6.py\n",
        "\n",
        "from code_calculator import square\n",
        "\n",
        "def test_assert():\n",
        "  assert square(2) == 4\n",
        "  assert square(3) == 9\n",
        "  assert square(-2) == 4\n",
        "  assert square(-3) == 9\n",
        "  assert square(0) == 0"
      ],
      "metadata": {
        "colab": {
          "base_uri": "https://localhost:8080/"
        },
        "id": "sB5vYTz4eIg6",
        "outputId": "897a231d-11d1-403c-932f-f9b0a1d91551"
      },
      "execution_count": 64,
      "outputs": [
        {
          "output_type": "stream",
          "name": "stdout",
          "text": [
            "Writing test_calculator6.py\n"
          ]
        }
      ]
    },
    {
      "cell_type": "code",
      "source": [
        "%run test_calculator6.py"
      ],
      "metadata": {
        "id": "OAWoQq10ekrN"
      },
      "execution_count": 65,
      "outputs": []
    },
    {
      "cell_type": "code",
      "source": [
        "%%writefile test_calculator7.py\n",
        "\n",
        "from code_calculator2 import square\n",
        "\n",
        "def test_assert():\n",
        "  assert square(2) == 4\n",
        "  assert square(3) == 9\n",
        "  assert square(-2) == 4\n",
        "  assert square(-3) == 9\n",
        "  assert square(0) == 0"
      ],
      "metadata": {
        "colab": {
          "base_uri": "https://localhost:8080/"
        },
        "id": "tMkdOCgLepJ-",
        "outputId": "4daf4aec-3e9f-4872-8438-44b8308764a7"
      },
      "execution_count": 66,
      "outputs": [
        {
          "output_type": "stream",
          "name": "stdout",
          "text": [
            "Writing test_calculator7.py\n"
          ]
        }
      ]
    },
    {
      "cell_type": "code",
      "source": [
        "%run test_calculator7.py"
      ],
      "metadata": {
        "id": "S_OLpA78esXb"
      },
      "execution_count": 70,
      "outputs": []
    },
    {
      "cell_type": "code",
      "source": [
        "!pytest test_calculator7.py"
      ],
      "metadata": {
        "colab": {
          "base_uri": "https://localhost:8080/"
        },
        "id": "Qf6elZfPe0-w",
        "outputId": "b93d1eff-3570-4372-b10e-428ffabffc91"
      },
      "execution_count": 73,
      "outputs": [
        {
          "output_type": "stream",
          "name": "stdout",
          "text": [
            "\u001b[1m============================= test session starts ==============================\u001b[0m\n",
            "platform linux -- Python 3.7.13, pytest-3.6.4, py-1.11.0, pluggy-0.7.1\n",
            "rootdir: /content, inifile:\n",
            "plugins: typeguard-2.7.1\n",
            "\u001b[1m\rcollecting 0 items                                                             \u001b[0m\u001b[1m\rcollecting 1 item                                                              \u001b[0m\u001b[1m\rcollected 1 item                                                               \u001b[0m\n",
            "\n",
            "test_calculator7.py F\u001b[36m                                                    [100%]\u001b[0m\n",
            "\n",
            "=================================== FAILURES ===================================\n",
            "\u001b[31m\u001b[1m_________________________________ test_assert __________________________________\u001b[0m\n",
            "\n",
            "\u001b[1m    def test_assert():\u001b[0m\n",
            "\u001b[1m      assert square(2) == 4\u001b[0m\n",
            "\u001b[1m>     assert square(3) == 9\u001b[0m\n",
            "\u001b[1m\u001b[31mE     assert 6 == 9\u001b[0m\n",
            "\u001b[1m\u001b[31mE      +  where 6 = square(3)\u001b[0m\n",
            "\n",
            "\u001b[1m\u001b[31mtest_calculator7.py\u001b[0m:6: AssertionError\n",
            "\u001b[31m\u001b[1m=========================== 1 failed in 0.04 seconds ===========================\u001b[0m\n"
          ]
        }
      ]
    },
    {
      "cell_type": "code",
      "source": [
        "%%writefile test_calculator8.py\n",
        "\n",
        "from code_calculator2 import square\n",
        "\n",
        "def test_positive():\n",
        "  assert square(2) == 4 \n",
        "  assert square(3) == 9\n",
        "\n",
        "def test_negative():\n",
        "  assert square(-2) == 4\n",
        "  assert square(-3) == 9\n",
        "\n",
        "def test_zero():\n",
        "  assert square(0) == 0 "
      ],
      "metadata": {
        "colab": {
          "base_uri": "https://localhost:8080/"
        },
        "id": "LeWb_t5Tf_t6",
        "outputId": "8b34ed6d-2755-452a-90ff-47d190cee8eb"
      },
      "execution_count": 79,
      "outputs": [
        {
          "output_type": "stream",
          "name": "stdout",
          "text": [
            "Overwriting test_calculator8.py\n"
          ]
        }
      ]
    },
    {
      "cell_type": "code",
      "source": [
        "!pytest test_calculator8.py"
      ],
      "metadata": {
        "colab": {
          "base_uri": "https://localhost:8080/"
        },
        "id": "OYE0w_d7gxQR",
        "outputId": "581b067e-ff6f-4c1f-9d51-499ff031b10d"
      },
      "execution_count": 80,
      "outputs": [
        {
          "output_type": "stream",
          "name": "stdout",
          "text": [
            "\u001b[1m============================= test session starts ==============================\u001b[0m\n",
            "platform linux -- Python 3.7.13, pytest-3.6.4, py-1.11.0, pluggy-0.7.1\n",
            "rootdir: /content, inifile:\n",
            "plugins: typeguard-2.7.1\n",
            "\u001b[1m\rcollecting 0 items                                                             \u001b[0m\u001b[1m\rcollecting 3 items                                                             \u001b[0m\u001b[1m\rcollected 3 items                                                              \u001b[0m\n",
            "\n",
            "test_calculator8.py FF.\u001b[36m                                                  [100%]\u001b[0m\n",
            "\n",
            "=================================== FAILURES ===================================\n",
            "\u001b[31m\u001b[1m________________________________ test_positive _________________________________\u001b[0m\n",
            "\n",
            "\u001b[1m    def test_positive():\u001b[0m\n",
            "\u001b[1m      assert square(2) == 4\u001b[0m\n",
            "\u001b[1m>     assert square(3) == 9\u001b[0m\n",
            "\u001b[1m\u001b[31mE     assert 6 == 9\u001b[0m\n",
            "\u001b[1m\u001b[31mE      +  where 6 = square(3)\u001b[0m\n",
            "\n",
            "\u001b[1m\u001b[31mtest_calculator8.py\u001b[0m:6: AssertionError\n",
            "\u001b[31m\u001b[1m________________________________ test_negative _________________________________\u001b[0m\n",
            "\n",
            "\u001b[1m    def test_negative():\u001b[0m\n",
            "\u001b[1m>     assert square(-2) == 4\u001b[0m\n",
            "\u001b[1m\u001b[31mE     assert -4 == 4\u001b[0m\n",
            "\u001b[1m\u001b[31mE      +  where -4 = square(-2)\u001b[0m\n",
            "\n",
            "\u001b[1m\u001b[31mtest_calculator8.py\u001b[0m:9: AssertionError\n",
            "\u001b[31m\u001b[1m====================== 2 failed, 1 passed in 0.04 seconds ======================\u001b[0m\n"
          ]
        }
      ]
    },
    {
      "cell_type": "code",
      "source": [
        "%%writefile hello.py\n",
        "\n",
        "def main(): \n",
        "  name = input(\"What's your name? \")\n",
        "  hello(name)\n",
        "\n",
        "def hello(to=\"world\"):\n",
        "  return f\"hello, {to}\"\n",
        "\n",
        "if __name__ == \"__main__\":\n",
        "  main()\n"
      ],
      "metadata": {
        "colab": {
          "base_uri": "https://localhost:8080/"
        },
        "id": "wo5w5iJlg9-X",
        "outputId": "b5e68f58-4527-464e-e76c-ddb747e68cc1"
      },
      "execution_count": 101,
      "outputs": [
        {
          "output_type": "stream",
          "name": "stdout",
          "text": [
            "Overwriting hello.py\n"
          ]
        }
      ]
    },
    {
      "cell_type": "code",
      "source": [
        "%run hello.py"
      ],
      "metadata": {
        "colab": {
          "base_uri": "https://localhost:8080/"
        },
        "id": "3MUL2MiVi79z",
        "outputId": "6f5957b7-8a41-48c6-c1d9-cb0bc9ef94f6"
      },
      "execution_count": 102,
      "outputs": [
        {
          "name": "stdout",
          "output_type": "stream",
          "text": [
            "What's your name? David\n"
          ]
        }
      ]
    },
    {
      "cell_type": "code",
      "source": [
        "%%writefile test_hello.py\n",
        "\n",
        "from hello import hello\n",
        "\n",
        "def test_hello():\n",
        "  assert hello(\"David\") == \"hello, David\"\n",
        "  assert hello() == \"hello, world\""
      ],
      "metadata": {
        "colab": {
          "base_uri": "https://localhost:8080/"
        },
        "id": "NpWsQ4nviDuv",
        "outputId": "ae20fd8e-7873-4cd8-8355-fa343e2be62f"
      },
      "execution_count": 103,
      "outputs": [
        {
          "output_type": "stream",
          "name": "stdout",
          "text": [
            "Overwriting test_hello.py\n"
          ]
        }
      ]
    },
    {
      "cell_type": "code",
      "source": [
        "%run test_hello.py"
      ],
      "metadata": {
        "id": "Sz_9cqN7jeZO"
      },
      "execution_count": 105,
      "outputs": []
    },
    {
      "cell_type": "code",
      "source": [
        "!pytest test_hello.py"
      ],
      "metadata": {
        "colab": {
          "base_uri": "https://localhost:8080/"
        },
        "id": "dkZk0oxFiWfD",
        "outputId": "796d47ed-ddf8-4b4e-ebda-5d6d2b4092f0"
      },
      "execution_count": 104,
      "outputs": [
        {
          "output_type": "stream",
          "name": "stdout",
          "text": [
            "\u001b[1m============================= test session starts ==============================\u001b[0m\n",
            "platform linux -- Python 3.7.13, pytest-3.6.4, py-1.11.0, pluggy-0.7.1\n",
            "rootdir: /content, inifile:\n",
            "plugins: typeguard-2.7.1\n",
            "\u001b[1m\rcollecting 0 items                                                             \u001b[0m\u001b[1m\rcollecting 1 item                                                              \u001b[0m\u001b[1m\rcollected 1 item                                                               \u001b[0m\n",
            "\n",
            "test_hello.py .\u001b[36m                                                          [100%]\u001b[0m\n",
            "\n",
            "\u001b[32m\u001b[1m=========================== 1 passed in 0.02 seconds ===========================\u001b[0m\n"
          ]
        }
      ]
    },
    {
      "cell_type": "code",
      "source": [
        ""
      ],
      "metadata": {
        "id": "_BcNrDDujith"
      },
      "execution_count": null,
      "outputs": []
    }
  ]
}