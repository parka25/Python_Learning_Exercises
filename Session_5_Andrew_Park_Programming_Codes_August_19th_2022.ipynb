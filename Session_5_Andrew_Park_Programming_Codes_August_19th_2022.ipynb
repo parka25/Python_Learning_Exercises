{
  "nbformat": 4,
  "nbformat_minor": 0,
  "metadata": {
    "colab": {
      "name": " Session_5_Andrew_Park_Programming_Codes_August_19th_2022.ipynb",
      "provenance": [],
      "collapsed_sections": [],
      "authorship_tag": "ABX9TyMSXRdJkuDqtgaIb8A+gI+h",
      "include_colab_link": true
    },
    "kernelspec": {
      "name": "python3",
      "display_name": "Python 3"
    },
    "language_info": {
      "name": "python"
    }
  },
  "cells": [
    {
      "cell_type": "markdown",
      "metadata": {
        "id": "view-in-github",
        "colab_type": "text"
      },
      "source": [
        "<a href=\"https://colab.research.google.com/github/parka25/Test-Project/blob/main/Session_5_Andrew_Park_Programming_Codes_August_19th_2022.ipynb\" target=\"_parent\"><img src=\"https://colab.research.google.com/assets/colab-badge.svg\" alt=\"Open In Colab\"/></a>"
      ]
    },
    {
      "cell_type": "code",
      "execution_count": null,
      "metadata": {
        "id": "kvwhUW1meZoZ"
      },
      "outputs": [],
      "source": [
        "%%writefile input.py\n",
        "\n",
        "name = input(\"What is your name? \" )"
      ]
    },
    {
      "cell_type": "code",
      "source": [
        "%%writefile namesshower.org\n",
        "\n",
        "names =[] \n",
        "\n",
        "for I in range(3):\n",
        "  name -input(\"What is yore name? \")\n",
        "  names.append (name) "
      ],
      "metadata": {
        "colab": {
          "base_uri": "https://localhost:8080/"
        },
        "id": "mtlRK-1IfrMY",
        "outputId": "714240fd-a4df-4d24-ef59-6a2dbd3e97ae"
      },
      "execution_count": 1,
      "outputs": [
        {
          "output_type": "stream",
          "name": "stdout",
          "text": [
            "Writing namesshower.org\n"
          ]
        }
      ]
    },
    {
      "cell_type": "code",
      "source": [
        "names = [] \n",
        "\n",
        "for i in range (3): \n",
        "  names.append(input\"what is you name\" )"
      ],
      "metadata": {
        "colab": {
          "base_uri": "https://localhost:8080/",
          "height": 130
        },
        "id": "mNHOJVYJgJFp",
        "outputId": "23ec86a8-23f8-4845-b8aa-41feb4a270ee"
      },
      "execution_count": 3,
      "outputs": [
        {
          "output_type": "error",
          "ename": "SyntaxError",
          "evalue": "ignored",
          "traceback": [
            "\u001b[0;36m  File \u001b[0;32m\"<ipython-input-3-30da029c656c>\"\u001b[0;36m, line \u001b[0;32m3\u001b[0m\n\u001b[0;31m    for i in\u001b[0m\n\u001b[0m             ^\u001b[0m\n\u001b[0;31mSyntaxError\u001b[0m\u001b[0;31m:\u001b[0m invalid syntax\n"
          ]
        }
      ]
    },
    {
      "cell_type": "code",
      "source": [
        "names = []\n",
        "\n",
        "for I in range (3):\n",
        "   names.append(input(\"What's your name? \"))\n",
        "\n",
        "for name in sorted(names):\n",
        "  print(f\"hello, {name}\")"
      ],
      "metadata": {
        "colab": {
          "base_uri": "https://localhost:8080/"
        },
        "id": "ZuA_2vGxgoiJ",
        "outputId": "f61ee010-5f03-47f5-fed1-a71b53b077ee"
      },
      "execution_count": 7,
      "outputs": [
        {
          "output_type": "stream",
          "name": "stdout",
          "text": [
            "What's your name? Andrew Park\n",
            "What's your name? Andrew Park\n",
            "What's your name? Andrew Park\n",
            "hello, Andrew Park\n",
            "hello, Andrew Park\n",
            "hello, Andrew Park\n"
          ]
        }
      ]
    },
    {
      "cell_type": "code",
      "source": [
        "name = input(\"what's your name? \")\n",
        "\n",
        "file = open(\"names.txt\", \"w\")\n",
        "file.write(name)\n",
        "file.close()"
      ],
      "metadata": {
        "colab": {
          "base_uri": "https://localhost:8080/"
        },
        "id": "_8JVKd85iLEz",
        "outputId": "3d4c573d-c3ba-4543-c057-7862d9532b94"
      },
      "execution_count": 14,
      "outputs": [
        {
          "name": "stdout",
          "output_type": "stream",
          "text": [
            "what's your name? 123432\n"
          ]
        }
      ]
    },
    {
      "cell_type": "code",
      "source": [
        "name = input(\"what's your name? \")\n",
        "\n",
        "file = open(\"names.txt\", \"a\")\n",
        "file.write(f\"{name}\\n\")\n",
        "file.close()"
      ],
      "metadata": {
        "colab": {
          "base_uri": "https://localhost:8080/"
        },
        "id": "2Zac3ddmihnO",
        "outputId": "9d35d860-4f1d-48a6-bdc2-ebc56113b670"
      },
      "execution_count": 22,
      "outputs": [
        {
          "name": "stdout",
          "output_type": "stream",
          "text": [
            "what's your name? Andrew Park\n"
          ]
        }
      ]
    },
    {
      "cell_type": "code",
      "source": [
        "with open(\"names.txt\", \"r\") as file:\n",
        "  lines = file.readlines()\n",
        "\n",
        "for line in lines: \n",
        "  print(\"hello,\", line)"
      ],
      "metadata": {
        "colab": {
          "base_uri": "https://localhost:8080/"
        },
        "id": "iFN5zaUqmQOl",
        "outputId": "7120b934-a6ed-44d9-a8b8-d9c7bbbbcd8d"
      },
      "execution_count": 26,
      "outputs": [
        {
          "output_type": "stream",
          "name": "stdout",
          "text": [
            "hello, 123432asdfaAndrew park\n",
            "\n",
            "hello, Andrew par\n",
            "\n",
            "hello, sds\n",
            "\n",
            "hello, ㄴㄴㄴㄴㄴ\n",
            "\n",
            "hello, Andrew Park\n",
            "\n"
          ]
        }
      ]
    },
    {
      "cell_type": "code",
      "source": [
        "with open (\"names.txt\", \"r\") as file:\n",
        "  lines = file.readlines()\n",
        "\n",
        "for line in lines: \n",
        "  print(\"hello,\", line.rstrip())"
      ],
      "metadata": {
        "colab": {
          "base_uri": "https://localhost:8080/"
        },
        "id": "fQbIUoTRnBRl",
        "outputId": "674c7f15-5c95-4e66-e051-92b67fe13b34"
      },
      "execution_count": 24,
      "outputs": [
        {
          "output_type": "stream",
          "name": "stdout",
          "text": [
            "hello, 123432asdfaAndrew park\n",
            "hello, Andrew par\n",
            "hello, sds\n",
            "hello, ㄴㄴㄴㄴㄴ\n",
            "hello, Andrew Park\n"
          ]
        }
      ]
    },
    {
      "cell_type": "code",
      "source": [
        "with open (\"names.txt\", \"r\") as file: \n",
        "  for line in file:\n",
        "    print(\"hello,\", line.rstrip())"
      ],
      "metadata": {
        "colab": {
          "base_uri": "https://localhost:8080/"
        },
        "id": "4lc2wwGIngjY",
        "outputId": "2aedf04e-7cde-43f6-cddb-bdbf1195aed7"
      },
      "execution_count": 25,
      "outputs": [
        {
          "output_type": "stream",
          "name": "stdout",
          "text": [
            "hello, 123432asdfaAndrew park\n",
            "hello, Andrew par\n",
            "hello, sds\n",
            "hello, ㄴㄴㄴㄴㄴ\n",
            "hello, Andrew Park\n"
          ]
        }
      ]
    },
    {
      "cell_type": "code",
      "source": [
        "with open (\"names.txt\") as file: \n",
        "  for line in file: \n",
        "    names.append(line.rstrip())\n",
        "\n",
        "for name in sorted(names): \n",
        "  print(f\"hello, {name}\")"
      ],
      "metadata": {
        "colab": {
          "base_uri": "https://localhost:8080/"
        },
        "id": "yDzHj26fn2bF",
        "outputId": "aba7cc06-86c5-4a7b-f6f6-e172160705ae"
      },
      "execution_count": 30,
      "outputs": [
        {
          "output_type": "stream",
          "name": "stdout",
          "text": [
            "hello, 123432asdfaAndrew park\n",
            "hello, Andrew Park\n",
            "hello, Andrew Park\n",
            "hello, Andrew Park\n",
            "hello, Andrew Park\n",
            "hello, Andrew par\n",
            "hello, sds\n",
            "hello, ㄴㄴㄴㄴㄴ\n"
          ]
        }
      ]
    },
    {
      "cell_type": "code",
      "source": [
        "%%writefile students.csv\n",
        "Hermoine,Gryffindor\n",
        "Harry,Griffindor\n",
        "Ron,Gryffindor\n",
        "Draco,Slytherin"
      ],
      "metadata": {
        "colab": {
          "base_uri": "https://localhost:8080/"
        },
        "id": "nW-B6NOip1YM",
        "outputId": "5078764d-8de7-4f1b-b994-6575f0741c46"
      },
      "execution_count": 47,
      "outputs": [
        {
          "output_type": "stream",
          "name": "stdout",
          "text": [
            "Overwriting students.csv\n"
          ]
        }
      ]
    },
    {
      "cell_type": "code",
      "source": [
        "with open(\"students.csv\") as file:\n",
        "  for line in file:\n",
        "    row = line.rstrip().split(\",\")\n",
        "    print(f\"{row[0]} is in {row[1]}\")"
      ],
      "metadata": {
        "colab": {
          "base_uri": "https://localhost:8080/"
        },
        "id": "XxBvfM0eo-Yr",
        "outputId": "035dc7db-7618-4bf9-d379-a34241feba05"
      },
      "execution_count": 48,
      "outputs": [
        {
          "output_type": "stream",
          "name": "stdout",
          "text": [
            "Hermoine is in Gryffindor\n",
            "Harry is in Griffindor\n",
            "Ron is in Gryffindor\n",
            "Draco is in Slytherin\n"
          ]
        }
      ]
    },
    {
      "cell_type": "code",
      "source": [
        "with open(\"students.csv\") as file:\n",
        "  for line in file:\n",
        "    name,house = line.rstrip().split(\",\")\n",
        "    print(f\"{name} is in {house}\")"
      ],
      "metadata": {
        "colab": {
          "base_uri": "https://localhost:8080/"
        },
        "id": "cXvUJxb7sAxF",
        "outputId": "54842d3b-c035-4425-c2c8-b6a055e4b8c9"
      },
      "execution_count": 49,
      "outputs": [
        {
          "output_type": "stream",
          "name": "stdout",
          "text": [
            "Hermoine is in Gryffindor\n",
            "Harry is in Griffindor\n",
            "Ron is in Gryffindor\n",
            "Draco is in Slytherin\n"
          ]
        }
      ]
    },
    {
      "cell_type": "code",
      "source": [
        "students = []\n",
        "\n",
        "with open(\"students.csv\") as file:\n",
        "  name, house = line.rstrip().split(\",\")\n",
        "  students.append(f\"{name} is in {house}\")\n",
        "\n",
        "for student in sorted(students):\n",
        "  print(student)"
      ],
      "metadata": {
        "colab": {
          "base_uri": "https://localhost:8080/"
        },
        "id": "b3KhpiXGsTLg",
        "outputId": "ce5240c0-feb5-4021-8dc9-c281bcb32c2c"
      },
      "execution_count": 52,
      "outputs": [
        {
          "output_type": "stream",
          "name": "stdout",
          "text": [
            "Draco is in Slytherin\n"
          ]
        }
      ]
    },
    {
      "cell_type": "code",
      "source": [
        "students = []\n",
        "\n",
        "with open(\"students.csv\") as file:\n",
        "  for line in file:\n",
        "    name, house = line.rstrip().split(\",\")\n",
        "    student = {}\n",
        "    student[\"name\"] = name\n",
        "    student[\"house\"] = house\n",
        "    students.append(student)\n",
        "\n",
        "for student in students: \n",
        "  print(f\"{student['name']} is in {student['house']}\")"
      ],
      "metadata": {
        "colab": {
          "base_uri": "https://localhost:8080/"
        },
        "id": "iskrz_q8srD7",
        "outputId": "1f374276-dd41-49f4-c619-19231a379f25"
      },
      "execution_count": 54,
      "outputs": [
        {
          "output_type": "stream",
          "name": "stdout",
          "text": [
            "Hermoine is in Gryffindor\n",
            "Harry is in Griffindor\n",
            "Ron is in Gryffindor\n",
            "Draco is in Slytherin\n"
          ]
        }
      ]
    },
    {
      "cell_type": "code",
      "source": [
        "with open(\"students.csv\") as file:\n",
        "  for line in file:\n",
        "    name, house = line.rstrip().split(\",\")\n",
        "    students.append({\"name\": name, \"house\": house})\n",
        "\n",
        "def get_name(student): \n",
        "  return student[\"name\"]\n",
        "\n",
        "for student in sorted(students, key=get_name):\n",
        "  print(f\"{student['name']} is in {student['house']}\")"
      ],
      "metadata": {
        "colab": {
          "base_uri": "https://localhost:8080/"
        },
        "id": "nhJhn25FtfJE",
        "outputId": "d4807e81-8815-4141-f94a-e27507f1abad"
      },
      "execution_count": 57,
      "outputs": [
        {
          "output_type": "stream",
          "name": "stdout",
          "text": [
            "Draco is in Slytherin\n",
            "Draco is in Slytherin\n",
            "Draco is in Slytherin\n",
            "Harry is in Griffindor\n",
            "Harry is in Griffindor\n",
            "Harry is in Griffindor\n",
            "Hermoine is in Gryffindor\n",
            "Hermoine is in Gryffindor\n",
            "Hermoine is in Gryffindor\n",
            "Ron is in Gryffindor\n",
            "Ron is in Gryffindor\n",
            "Ron is in Gryffindor\n"
          ]
        }
      ]
    }
  ]
}