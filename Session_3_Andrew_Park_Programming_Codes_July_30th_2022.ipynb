{
  "nbformat": 4,
  "nbformat_minor": 0,
  "metadata": {
    "colab": {
      "name": "Session_3_Andrew_Park_Programming_Codes_July_30th_2022.ipynb",
      "provenance": [],
      "authorship_tag": "ABX9TyPlrKmLL6IvKoUuXqO6QyUv",
      "include_colab_link": true
    },
    "kernelspec": {
      "name": "python3",
      "display_name": "Python 3"
    },
    "language_info": {
      "name": "python"
    }
  },
  "cells": [
    {
      "cell_type": "markdown",
      "metadata": {
        "id": "view-in-github",
        "colab_type": "text"
      },
      "source": [
        "<a href=\"https://colab.research.google.com/github/parka25/Test-Project/blob/main/Session_3_Andrew_Park_Programming_Codes_July_30th_2022.ipynb\" target=\"_parent\"><img src=\"https://colab.research.google.com/assets/colab-badge.svg\" alt=\"Open In Colab\"/></a>"
      ]
    },
    {
      "cell_type": "code",
      "execution_count": null,
      "metadata": {
        "colab": {
          "base_uri": "https://localhost:8080/",
          "height": 198
        },
        "id": "fCq0I5lKg762",
        "outputId": "7daf5e30-f396-4c93-b457-2fe1f8fde16e"
      },
      "outputs": [
        {
          "name": "stdout",
          "output_type": "stream",
          "text": [
            "What is X? asdgf\n"
          ]
        },
        {
          "output_type": "error",
          "ename": "ValueError",
          "evalue": "ignored",
          "traceback": [
            "\u001b[0;31m---------------------------------------------------------------------------\u001b[0m",
            "\u001b[0;31mValueError\u001b[0m                                Traceback (most recent call last)",
            "\u001b[0;32m<ipython-input-2-3e4ce8a11cc7>\u001b[0m in \u001b[0;36m<module>\u001b[0;34m()\u001b[0m\n\u001b[0;32m----> 1\u001b[0;31m \u001b[0mx\u001b[0m \u001b[0;34m=\u001b[0m \u001b[0mint\u001b[0m\u001b[0;34m(\u001b[0m\u001b[0minput\u001b[0m\u001b[0;34m(\u001b[0m\u001b[0;34m\"What is X? \"\u001b[0m\u001b[0;34m)\u001b[0m\u001b[0;34m)\u001b[0m\u001b[0;34m\u001b[0m\u001b[0;34m\u001b[0m\u001b[0m\n\u001b[0m\u001b[1;32m      2\u001b[0m \u001b[0mprint\u001b[0m\u001b[0;34m(\u001b[0m\u001b[0;34mf\"x is {x}\"\u001b[0m\u001b[0;34m)\u001b[0m\u001b[0;34m\u001b[0m\u001b[0;34m\u001b[0m\u001b[0m\n",
            "\u001b[0;31mValueError\u001b[0m: invalid literal for int() with base 10: 'asdgf'"
          ]
        }
      ],
      "source": [
        "a = int(input(\"What is a? \"))\n",
        "\n",
        "print(f\"x is {a}\")"
      ]
    },
    {
      "cell_type": "code",
      "source": [
        "try:\n",
        "  b = int(input(\"What is b? \"))\n",
        "  print(f\"x is {b}\")\n",
        "\n",
        "except ValueError:\n",
        "  print(\"please write an integer\")"
      ],
      "metadata": {
        "colab": {
          "base_uri": "https://localhost:8080/"
        },
        "id": "AevRKzz3hT1s",
        "outputId": "2e40acbe-a02a-4fc8-c192-d9229bd8953b"
      },
      "execution_count": null,
      "outputs": [
        {
          "output_type": "stream",
          "name": "stdout",
          "text": [
            "What is x? asdfa\n",
            "please write an integer\n"
          ]
        }
      ]
    },
    {
      "cell_type": "code",
      "source": [
        "try:\n",
        "  c = int(input(\"What is c? \"))\n",
        "\n",
        "except ValueError:\n",
        "  print(\"please write an integer\")\n",
        "\n",
        "print(f\"c is {c}\")"
      ],
      "metadata": {
        "colab": {
          "base_uri": "https://localhost:8080/",
          "height": 232
        },
        "id": "aX2cHgaXhWwt",
        "outputId": "6984b8b2-f2d3-47bc-f47e-8adf7fb554e4"
      },
      "execution_count": null,
      "outputs": [
        {
          "output_type": "stream",
          "name": "stdout",
          "text": [
            "What is x? asd\n",
            "please write an integer\n"
          ]
        },
        {
          "output_type": "error",
          "ename": "NameError",
          "evalue": "ignored",
          "traceback": [
            "\u001b[0;31m---------------------------------------------------------------------------\u001b[0m",
            "\u001b[0;31mNameError\u001b[0m                                 Traceback (most recent call last)",
            "\u001b[0;32m<ipython-input-7-e349da8ef3cf>\u001b[0m in \u001b[0;36m<module>\u001b[0;34m()\u001b[0m\n\u001b[1;32m      5\u001b[0m   \u001b[0mprint\u001b[0m\u001b[0;34m(\u001b[0m\u001b[0;34m\"please write an integer\"\u001b[0m\u001b[0;34m)\u001b[0m\u001b[0;34m\u001b[0m\u001b[0;34m\u001b[0m\u001b[0m\n\u001b[1;32m      6\u001b[0m \u001b[0;34m\u001b[0m\u001b[0m\n\u001b[0;32m----> 7\u001b[0;31m \u001b[0mprint\u001b[0m\u001b[0;34m(\u001b[0m\u001b[0;34mf\"x is {c}\"\u001b[0m\u001b[0;34m)\u001b[0m\u001b[0;34m\u001b[0m\u001b[0;34m\u001b[0m\u001b[0m\n\u001b[0m",
            "\u001b[0;31mNameError\u001b[0m: name 'c' is not defined"
          ]
        }
      ]
    },
    {
      "cell_type": "code",
      "source": [
        "try:\n",
        "  d = int(input(\"What is d? \"))\n",
        "\n",
        "except ValueError:\n",
        "  print(\"please write an integer\")\n",
        "\n",
        "else:\n",
        "  print(f\"d is {d}\")"
      ],
      "metadata": {
        "colab": {
          "base_uri": "https://localhost:8080/"
        },
        "id": "N0GRC42CibxM",
        "outputId": "ebd0cb3e-6213-4b1e-ae4b-bacebfdf3254"
      },
      "execution_count": null,
      "outputs": [
        {
          "output_type": "stream",
          "name": "stdout",
          "text": [
            "What is d? asd\n",
            "please write an integer\n"
          ]
        }
      ]
    },
    {
      "cell_type": "code",
      "source": [
        "while True: \n",
        "  try:\n",
        "   e = int(input(\"What is e? \"))\n",
        "  except ValueError:\n",
        "    print(\"please write an integer\")\n",
        "  else: \n",
        "    break\n",
        "\n",
        "print(f\"d is {e}\")"
      ],
      "metadata": {
        "colab": {
          "base_uri": "https://localhost:8080/"
        },
        "id": "AGDBZBYxi3K2",
        "outputId": "549442af-50af-47d8-e2db-d11cb636582c"
      },
      "execution_count": null,
      "outputs": [
        {
          "output_type": "stream",
          "name": "stdout",
          "text": [
            "What is e? asdf\n",
            "please write an integer\n",
            "What is e? asdf\n",
            "please write an integer\n",
            "What is e? ㄴㅇㅅ\n",
            "please write an integer\n",
            "What is e? 3\n",
            "d is 3\n"
          ]
        }
      ]
    },
    {
      "cell_type": "code",
      "source": [
        "def main():\n",
        "  x = get_int()\n",
        "  print(f\"x is {x}\")\n",
        "\n",
        "def get_int():\n",
        "  while True:\n",
        "    try:\n",
        "      x = int(input(\"What is x? \"))\n",
        "    except ValueError:\n",
        "      print(\"please write an integer\")\n",
        "\n",
        "    else:\n",
        "      break\n",
        "  return x\n",
        "\n",
        "main ()"
      ],
      "metadata": {
        "colab": {
          "base_uri": "https://localhost:8080/"
        },
        "id": "7W2JkyuYjfQG",
        "outputId": "04226b30-9ac3-4bb4-9e1a-21bb49ab8b6a"
      },
      "execution_count": null,
      "outputs": [
        {
          "output_type": "stream",
          "name": "stdout",
          "text": [
            "What is x? Andrew Park\n",
            "please write an integer\n",
            "What is x? 8\n",
            "x is 8\n"
          ]
        }
      ]
    },
    {
      "cell_type": "code",
      "source": [
        "def main():\n",
        "  x = get_int()\n",
        "  print(f\"x is {x}\")\n",
        "\n",
        "def get_int():\n",
        "  while True:\n",
        "    try:\n",
        "      x = int(input(\"What is x? \"))\n",
        "    except ValueError:\n",
        "      print(\"please write an integer\")\n",
        "\n",
        "    else:\n",
        "      return x\n",
        "\n",
        "main ()"
      ],
      "metadata": {
        "colab": {
          "base_uri": "https://localhost:8080/"
        },
        "id": "9Vyhc2ozlBHN",
        "outputId": "4761f071-2cc4-4659-b31d-3f6aa9978642"
      },
      "execution_count": null,
      "outputs": [
        {
          "output_type": "stream",
          "name": "stdout",
          "text": [
            "What is x? Derrick Park\n",
            "please write an integer\n",
            "What is x? 67890\n",
            "x is 67890\n"
          ]
        }
      ]
    },
    {
      "cell_type": "code",
      "source": [
        "def main():\n",
        "  x = get_int()\n",
        "  print(f\"x is {x}\")\n",
        "\n",
        "def get_int():\n",
        "  while True:\n",
        "    try:\n",
        "      return int(input(\"What is x? \"))\n",
        "    except ValueError:\n",
        "      print(\"please write an integer\")\n",
        "\n",
        "main()"
      ],
      "metadata": {
        "colab": {
          "base_uri": "https://localhost:8080/"
        },
        "id": "WEIxRDGflYSV",
        "outputId": "fddda0af-6d49-4770-ce41-7b39081d7279"
      },
      "execution_count": null,
      "outputs": [
        {
          "output_type": "stream",
          "name": "stdout",
          "text": [
            "What is x? 3\n",
            "x is 3\n"
          ]
        }
      ]
    },
    {
      "cell_type": "code",
      "source": [
        "def main():\n",
        "  x = get_int()\n",
        "  print(f\"x is {x}\")\n",
        "\n",
        "def get_int():\n",
        "  while True:\n",
        "    try:\n",
        "      return int(input(\"What is x? \"))\n",
        "    except ValueError:\n",
        "      pass\n",
        "\n",
        "main()"
      ],
      "metadata": {
        "colab": {
          "base_uri": "https://localhost:8080/"
        },
        "id": "cVZxU_HRmMDB",
        "outputId": "543467f1-9643-41f7-d77f-95a26b7eb5f7"
      },
      "execution_count": null,
      "outputs": [
        {
          "output_type": "stream",
          "name": "stdout",
          "text": [
            "What is x? adf\n",
            "What is x? 3\n",
            "x is 3\n"
          ]
        }
      ]
    },
    {
      "cell_type": "code",
      "source": [
        "def main():\n",
        "  x = get_int(\"What is x? \")\n",
        "  print(f\"x is {x}\")\n",
        "\n",
        "def get_int(prompt):\n",
        "  while True:\n",
        "    try:\n",
        "      return int(input(prompt))\n",
        "    except ValueError:\n",
        "      pass\n",
        "\n",
        "main()"
      ],
      "metadata": {
        "colab": {
          "base_uri": "https://localhost:8080/"
        },
        "id": "EruEJrjPm7_A",
        "outputId": "9db0ab51-fc40-469b-e175-c9e022abb3f5"
      },
      "execution_count": null,
      "outputs": [
        {
          "output_type": "stream",
          "name": "stdout",
          "text": [
            "What is x? asdfadsf\n",
            "What is x? 34343\n",
            "x is 34343\n"
          ]
        }
      ]
    },
    {
      "cell_type": "code",
      "source": [
        "# bring in the library of random into the pythoon code\n",
        "import random\n",
        "\n",
        "# make a function that randomly chooses one thing out of two options\n",
        "Lion = random.choice([\"Andrew\", \"Derrick\", \"Sean\"])\n",
        "print(Lion)"
      ],
      "metadata": {
        "colab": {
          "base_uri": "https://localhost:8080/"
        },
        "id": "4DnAS-tonUQ0",
        "outputId": "fcf859a3-af67-4fe1-f525-5fbf6c11cb7f"
      },
      "execution_count": null,
      "outputs": [
        {
          "output_type": "stream",
          "name": "stdout",
          "text": [
            "Andrew\n"
          ]
        }
      ]
    },
    {
      "cell_type": "code",
      "source": [
        "#print random numbers within the range of numbers (x, y)\n",
        "number = random.randint(1, 10)\n",
        "print(number)"
      ],
      "metadata": {
        "colab": {
          "base_uri": "https://localhost:8080/"
        },
        "id": "n63G6ZuApNnh",
        "outputId": "6267fc80-46ee-419b-c261-a87b1554a010"
      },
      "execution_count": null,
      "outputs": [
        {
          "output_type": "stream",
          "name": "stdout",
          "text": [
            "1\n"
          ]
        }
      ]
    },
    {
      "cell_type": "code",
      "source": [
        "# Using the shuffle function to make the ramdom order of things\n",
        "colors = [\"Blue\", \"Red\", \"Green\", \"Cyan\"]\n",
        "random.shuffle(cards)\n",
        "for card in cards:\n",
        "  print (card)"
      ],
      "metadata": {
        "colab": {
          "base_uri": "https://localhost:8080/"
        },
        "id": "up8K9nWTpzle",
        "outputId": "4aba33d7-376e-46f0-9b2b-3605fcdc38e2"
      },
      "execution_count": null,
      "outputs": [
        {
          "output_type": "stream",
          "name": "stdout",
          "text": [
            "Red\n",
            "Cyan\n",
            "Blue\n",
            "Green\n"
          ]
        }
      ]
    },
    {
      "cell_type": "code",
      "source": [
        "import statistics\n",
        "\n",
        "print(statistics.mean([100,90]))"
      ],
      "metadata": {
        "colab": {
          "base_uri": "https://localhost:8080/"
        },
        "id": "eNXUTNMQqQCJ",
        "outputId": "f63a43c4-6ac3-452b-e4e5-e9a190091448"
      },
      "execution_count": null,
      "outputs": [
        {
          "output_type": "stream",
          "name": "stdout",
          "text": [
            "95\n"
          ]
        }
      ]
    },
    {
      "cell_type": "code",
      "source": [
        "from statistics import median\n",
        "from math import isnan\n",
        "from itertools import filterfalse\n",
        "\n",
        "data = [20.7, float(\"Nan\"), 19.2, 18.3, float(\"NaN\"), 14.4]\n",
        "sorted(data)\n",
        "# [14.4, 18.3, 19,2, 20.7, nan, nan]\n",
        "median(data)\n",
        "# 16.35\n",
        "sum(map(isnan, data))\n",
        "# 2\n",
        "clean = list(filterfalse(isnan, data))\n",
        "clean\n",
        "sorted(clean)\n",
        "# [14.4, 18.3, 19,2, 20,7]\n",
        "median(clean)\n",
        "# 18.75"
      ],
      "metadata": {
        "colab": {
          "base_uri": "https://localhost:8080/"
        },
        "id": "7lHOUUVcqEdi",
        "outputId": "5ffad5bc-7624-4bad-d409-9a5f23a31625"
      },
      "execution_count": null,
      "outputs": [
        {
          "output_type": "execute_result",
          "data": {
            "text/plain": [
              "18.75"
            ]
          },
          "metadata": {},
          "execution_count": 126
        }
      ]
    },
    {
      "cell_type": "code",
      "source": [
        "import sys\n",
        "\n",
        "print(\"hello, my name is\", sys.argv[1])"
      ],
      "metadata": {
        "colab": {
          "base_uri": "https://localhost:8080/"
        },
        "id": "cSjaD1brsUoj",
        "outputId": "ace69882-fa7b-4b54-820c-d311cc4306af"
      },
      "execution_count": null,
      "outputs": [
        {
          "output_type": "stream",
          "name": "stdout",
          "text": [
            "hello, my name is -f\n"
          ]
        }
      ]
    },
    {
      "cell_type": "code",
      "source": [
        "%%writefile greetings.py\n",
        "#!usr/bin/bash python\n",
        "\n",
        "my_name = \"Andrew\"\n",
        "number_of_pets = 0\n",
        "\n",
        "print(\"My name is {} and I have {} pet(s).\".format(my_name, number_of_pets))"
      ],
      "metadata": {
        "colab": {
          "base_uri": "https://localhost:8080/"
        },
        "id": "cyqnt7TXtK3u",
        "outputId": "a08c3bae-f3f6-4ff7-a531-bdca0bbbe965"
      },
      "execution_count": null,
      "outputs": [
        {
          "output_type": "stream",
          "name": "stdout",
          "text": [
            "Overwriting greetings.py\n"
          ]
        }
      ]
    },
    {
      "cell_type": "code",
      "source": [
        "%run greetings.py"
      ],
      "metadata": {
        "colab": {
          "base_uri": "https://localhost:8080/"
        },
        "id": "r_9Mj56zt68T",
        "outputId": "134a3034-b28b-422d-c90e-cc35305caeca"
      },
      "execution_count": null,
      "outputs": [
        {
          "output_type": "stream",
          "name": "stdout",
          "text": [
            "My name is Andrew and I have 0 pets.\n"
          ]
        }
      ]
    },
    {
      "cell_type": "code",
      "source": [
        "%%writefile print_sys_argv.py\n",
        "#!usr/bin/bash python\n",
        "\n",
        "import sys\n",
        "\n",
        "print(\"Length of sys.argv: {}\".format(len(sys.argv)))\n",
        "\n",
        "print(sys.argv)\n",
        "\n",
        "for arg in sys.argv:\n",
        "  print(\"{}: {}\".format(arg, type(arg)))"
      ],
      "metadata": {
        "colab": {
          "base_uri": "https://localhost:8080/"
        },
        "id": "fjCrsQj4uRhT",
        "outputId": "acaf77ae-a512-47a1-c9d8-bd7e86595271"
      },
      "execution_count": null,
      "outputs": [
        {
          "output_type": "stream",
          "name": "stdout",
          "text": [
            "Overwriting print_sys_argv.py\n"
          ]
        }
      ]
    },
    {
      "cell_type": "code",
      "source": [
        "%run print_sys_argv.py arguement_1 2 3.0"
      ],
      "metadata": {
        "colab": {
          "base_uri": "https://localhost:8080/"
        },
        "id": "7dlAoVUIuqPo",
        "outputId": "1059ed0c-4361-422c-930a-e0d4fb431946"
      },
      "execution_count": null,
      "outputs": [
        {
          "output_type": "stream",
          "name": "stdout",
          "text": [
            "Length of sys.argv: 4\n",
            "['print_sys_argv.py', 'arguement_1', '2', '3.0']\n",
            "print_sys_argv.py: <class 'str'>\n",
            "arguement_1: <class 'str'>\n",
            "2: <class 'str'>\n",
            "3.0: <class 'str'>\n"
          ]
        }
      ]
    },
    {
      "cell_type": "code",
      "source": [
        "%%writefile greetings_cli.py\n",
        "#!usr/bin/bash python\n",
        "\n",
        "import sys\n",
        "\n",
        "my_name = sys.argv[1]\n",
        "number_of_pets = sys.argv[2]\n",
        "\n",
        "print(\"My name is {} and I have {} pet(s).\".format(my_name, number_of_pets))"
      ],
      "metadata": {
        "colab": {
          "base_uri": "https://localhost:8080/"
        },
        "id": "6xT_VqVwvRzy",
        "outputId": "ceba6698-30a7-488a-9aa3-ced5b5a2b18c"
      },
      "execution_count": null,
      "outputs": [
        {
          "output_type": "stream",
          "name": "stdout",
          "text": [
            "Overwriting greetings_cli.py\n"
          ]
        }
      ]
    },
    {
      "cell_type": "code",
      "source": [
        "%run greetings_cli.py Andrew 0"
      ],
      "metadata": {
        "colab": {
          "base_uri": "https://localhost:8080/"
        },
        "id": "fygzy5XQwyvf",
        "outputId": "d8d338ab-8a7b-4168-9188-7219e98d1b60"
      },
      "execution_count": null,
      "outputs": [
        {
          "output_type": "stream",
          "name": "stdout",
          "text": [
            "My name is Andrew and I have 0 pet(s).\n"
          ]
        }
      ]
    },
    {
      "cell_type": "code",
      "source": [
        "%%writefile Argument_Minimum.py\n",
        "\n",
        "import sys\n",
        "\n",
        "try: \n",
        "  print(\"hello my name is \", sys.argv[1])\n",
        "except IndexError:\n",
        "  print(\"Too few Arguements\")"
      ],
      "metadata": {
        "colab": {
          "base_uri": "https://localhost:8080/"
        },
        "id": "e3uAx2XzxAEi",
        "outputId": "1e4e864d-1b31-4b6a-87c1-caf59ca4a17f"
      },
      "execution_count": null,
      "outputs": [
        {
          "output_type": "stream",
          "name": "stdout",
          "text": [
            "Writing Argument_Minimum.py\n"
          ]
        }
      ]
    },
    {
      "cell_type": "code",
      "source": [
        "%run Argument_Minimum.py "
      ],
      "metadata": {
        "colab": {
          "base_uri": "https://localhost:8080/"
        },
        "id": "4f4-s9fj0oTb",
        "outputId": "fffe1db9-f462-4580-b002-3395dabf43a5"
      },
      "execution_count": null,
      "outputs": [
        {
          "output_type": "stream",
          "name": "stdout",
          "text": [
            "Too few Arguements\n"
          ]
        }
      ]
    },
    {
      "cell_type": "code",
      "source": [
        "%%writefile Argument_Control.py\n",
        "\n",
        "# bring in the library, or module when it is imported into the system\n",
        "import sys\n",
        "\n",
        "if len(sys.argv) < 2:\n",
        "  print(\"Too few arguments\")\n",
        "elif len(sys.argv) > 2:\n",
        "  print(\"Too many arguments\")\n",
        "else\n",
        "  print(\"hello, my name is\", sys.argv[1])"
      ],
      "metadata": {
        "colab": {
          "base_uri": "https://localhost:8080/"
        },
        "id": "1iyz_B1A05sJ",
        "outputId": "0db713e3-aab7-4d45-f624-83db1eaf9afe"
      },
      "execution_count": null,
      "outputs": [
        {
          "output_type": "stream",
          "name": "stdout",
          "text": [
            "Overwriting Argument_Control.py\n"
          ]
        }
      ]
    },
    {
      "cell_type": "code",
      "source": [
        "%run Argument_Control.py \n",
        "\n"
      ],
      "metadata": {
        "colab": {
          "base_uri": "https://localhost:8080/"
        },
        "id": "wVmqdgXQ1p37",
        "outputId": "5c15044c-77ed-4f19-993c-c0daa8a5975e"
      },
      "execution_count": null,
      "outputs": [
        {
          "output_type": "stream",
          "name": "stdout",
          "text": [
            "Too many arguments\n"
          ]
        }
      ]
    },
    {
      "cell_type": "code",
      "source": [
        "%%writefile Argument_Overload.py\n",
        "\n",
        "# bring in the library, or module when it is imported into the system\n",
        "import sys\n",
        "\n",
        "if len(sys.argv) < 2:\n",
        "  sys.exit(\"Too few arguments\")\n",
        "elif len(sys.argv) > 2:\n",
        "  sys.exit(\"Too many arguments\")\n",
        "\n",
        "print(\"hello, my name is\", sys.argv[1])"
      ],
      "metadata": {
        "colab": {
          "base_uri": "https://localhost:8080/"
        },
        "id": "6weYFMr_2G2d",
        "outputId": "daf95e47-aece-409a-b925-ae2b50f8990c"
      },
      "execution_count": null,
      "outputs": [
        {
          "output_type": "stream",
          "name": "stdout",
          "text": [
            "Overwriting Argument_Overload.py\n"
          ]
        }
      ]
    },
    {
      "cell_type": "code",
      "source": [
        "%run Argument_Overload.py Andrew"
      ],
      "metadata": {
        "colab": {
          "base_uri": "https://localhost:8080/"
        },
        "id": "fpl83nAV3Tma",
        "outputId": "fce9b0ee-c2cc-44e9-d7ba-428b46ebd85e"
      },
      "execution_count": null,
      "outputs": [
        {
          "output_type": "stream",
          "name": "stdout",
          "text": [
            "hello, my name is Andrew\n"
          ]
        }
      ]
    },
    {
      "cell_type": "code",
      "source": [
        "%%writefile Argument_Slice.py\n",
        "\n",
        "import sys\n",
        "\n",
        "if len(sys.argv) < 2:\n",
        "  sys.exit(\"Too few arguements\")\n",
        "\n",
        "for arg in sys.argv[1:]:\n",
        "  print(\"hello, my name is\", arg)"
      ],
      "metadata": {
        "colab": {
          "base_uri": "https://localhost:8080/"
        },
        "id": "zBBhbRlo3xPC",
        "outputId": "8c3615c5-cea7-4b38-94ed-94ac837d3370"
      },
      "execution_count": null,
      "outputs": [
        {
          "output_type": "stream",
          "name": "stdout",
          "text": [
            "Overwriting Argument_Slice.py\n"
          ]
        }
      ]
    },
    {
      "cell_type": "code",
      "source": [
        "%run Argument_Slice.py Andrew Park Seongmin Eaglebrook Lawrenceville "
      ],
      "metadata": {
        "colab": {
          "base_uri": "https://localhost:8080/"
        },
        "id": "6-4W-tKA47hF",
        "outputId": "c625abb8-7bdc-4d0f-841b-9b51cd45124f"
      },
      "execution_count": null,
      "outputs": [
        {
          "output_type": "stream",
          "name": "stdout",
          "text": [
            "hello, my name is Andrew\n",
            "hello, my name is Park\n",
            "hello, my name is Seongmin\n",
            "hello, my name is Eaglebrook\n",
            "hello, my name is Lawrenceville\n"
          ]
        }
      ]
    },
    {
      "cell_type": "code",
      "source": [
        "pip install cowsay"
      ],
      "metadata": {
        "colab": {
          "base_uri": "https://localhost:8080/"
        },
        "id": "jJ51it_F6T9W",
        "outputId": "c2911ae3-1dae-4140-f274-684ba0774d47"
      },
      "execution_count": null,
      "outputs": [
        {
          "output_type": "stream",
          "name": "stdout",
          "text": [
            "Looking in indexes: https://pypi.org/simple, https://us-python.pkg.dev/colab-wheels/public/simple/\n",
            "Collecting cowsay\n",
            "  Downloading cowsay-5.0.tar.gz (25 kB)\n",
            "Building wheels for collected packages: cowsay\n",
            "  Building wheel for cowsay (setup.py) ... \u001b[?25l\u001b[?25hdone\n",
            "  Created wheel for cowsay: filename=cowsay-5.0-py2.py3-none-any.whl size=25725 sha256=6c1b376ff3e1f5e9df25cc781cb311307defbf1f2c69ba27e1e8769991ddb153\n",
            "  Stored in directory: /root/.cache/pip/wheels/ec/64/04/df66e4b3e5afa8fc293c3c5fae0269a55b80f381d833010aeb\n",
            "Successfully built cowsay\n",
            "Installing collected packages: cowsay\n",
            "Successfully installed cowsay-5.0\n"
          ]
        }
      ]
    },
    {
      "cell_type": "code",
      "source": [
        "%%writefile Argument_cowsay.py\n",
        "\n",
        "import cowsay\n",
        "import sys\n",
        "\n",
        "if len(sys.argv) == 2:\n",
        "  cowsay.cow(\"hello, \" + sys.argv[1])\n"
      ],
      "metadata": {
        "colab": {
          "base_uri": "https://localhost:8080/"
        },
        "id": "dg835KdU5W5c",
        "outputId": "3a6a1e2f-bf48-450a-dda1-caaeec465fe4"
      },
      "execution_count": null,
      "outputs": [
        {
          "output_type": "stream",
          "name": "stdout",
          "text": [
            "Overwriting Argument_cowsay.py\n"
          ]
        }
      ]
    },
    {
      "cell_type": "code",
      "source": [
        "%run Argument_cowsay.py Andrew"
      ],
      "metadata": {
        "colab": {
          "base_uri": "https://localhost:8080/"
        },
        "id": "N-lV1NeD55H8",
        "outputId": "f141ee5a-c3cd-4bc6-b49d-bc7b32e0b41b"
      },
      "execution_count": null,
      "outputs": [
        {
          "output_type": "stream",
          "name": "stdout",
          "text": [
            "  _____________\n",
            "| hello, Andrew |\n",
            "  =============\n",
            "             \\\n",
            "              \\\n",
            "                ^__^\n",
            "                (oo)\\_______\n",
            "                (__)\\       )\\/\\\n",
            "                    ||----w |\n",
            "                    ||     ||\n"
          ]
        }
      ]
    },
    {
      "cell_type": "code",
      "source": [
        "%%writefile Argument_Trex.py\n",
        "\n",
        "import cowsay\n",
        "import sys\n",
        "\n",
        "if len(sys.argv) == 2:\n",
        "  cowsay.trex(\"hello\" + sys.argv[1])"
      ],
      "metadata": {
        "colab": {
          "base_uri": "https://localhost:8080/"
        },
        "id": "_v8yuZGp60an",
        "outputId": "0cca2beb-9755-43b2-b564-029ab1b6acaf"
      },
      "execution_count": null,
      "outputs": [
        {
          "output_type": "stream",
          "name": "stdout",
          "text": [
            "Overwriting Argument_Trex.py\n"
          ]
        }
      ]
    },
    {
      "cell_type": "code",
      "source": [
        "%run Argument_Trex.py Andrew "
      ],
      "metadata": {
        "colab": {
          "base_uri": "https://localhost:8080/"
        },
        "id": "6AuUq5Cs7C9S",
        "outputId": "b74128f5-0670-4106-d7e2-d5be600d53b9"
      },
      "execution_count": null,
      "outputs": [
        {
          "output_type": "stream",
          "name": "stdout",
          "text": [
            "  ___________\n",
            "| helloAndrew |\n",
            "  ===========\n",
            "                  \\\n",
            "                   \\\n",
            "                    \\\n",
            "                     \\\n",
            "                        .-=-==--==--.\n",
            "                  ..-==\"  ,'o`)      `.\n",
            "                ,'         `\"'         \\\n",
            "               :  (                     `.__...._\n",
            "               |                  )    /         `-=-.\n",
            "               :       ,vv.-._   /    /               `---==-._\n",
            "                \\/\\/\\/VV ^ d88`;'    /                         `.\n",
            "                    ``  ^/d88P!'    /             ,              `._\n",
            "                       ^/    !'   ,.      ,      /                  \"-,,__,,--'\"\"\"\"-.\n",
            "                      ^/    !'  ,'  \\ . .(      (         _           )  ) ) ) ))_,-.\\\n",
            "                     ^(__ ,!',\"'   ;:+.:%:a.     \\:.. . ,'          )  )  ) ) ,\"'    '\n",
            "                     ',,,'','     /o:::\":%:%a.    \\:.:.:         .    )  ) _,'\n",
            "                      \"\"\"'       ;':::'' `+%%%a._  \\%:%|         ;.). _,-\"\"\n",
            "                             ,-='_.-'      ``:%::)  )%:|        /:._,\"\n",
            "                            (/(/\"           ,\" ,'_,'%%%:       (_,'\n",
            "                                           (  (//(`.___;        \\\n",
            "                                            \\     \\    `         `\n",
            "                                             `.    `.   `.        :\n",
            "                                               \\. . .\\    : . . . :\n",
            "                                                \\. . .:    `.. . .:\n",
            "                                                 `..:.:\\     \\:...\\\n",
            "                                                  ;:.:.;      ::...:\n",
            "                                                  ):%::       :::::;\n",
            "                                              __,::%:(        :::::\n",
            "                                           ,;:%%%%%%%:        ;:%::\n",
            "                                             ;,--\"\"-.`\\  ,=--':%:%:\\\n",
            "                                            /\"       \"| /-\".:%%%%%%%\\\n",
            "                                                            ;,-\"'`)%%)\n",
            "                                                           /\"      \"|\n"
          ]
        }
      ]
    },
    {
      "cell_type": "code",
      "source": [
        "%%writefile Argument_Dragon.py \n",
        "\n",
        "import cowsay\n",
        "import sys\n",
        "\n",
        "if len(sys.argv) == 2:\n",
        "  cowsay.dragon(\"hello, \" + sys.argv[1])"
      ],
      "metadata": {
        "colab": {
          "base_uri": "https://localhost:8080/"
        },
        "id": "suNtfYNX7Rfn",
        "outputId": "484329e4-b3a4-4a4a-cbd0-8979ac5c4991"
      },
      "execution_count": null,
      "outputs": [
        {
          "output_type": "stream",
          "name": "stdout",
          "text": [
            "Overwriting Argument_Dragon.py\n"
          ]
        }
      ]
    },
    {
      "cell_type": "code",
      "source": [
        "%run Argument_Dragon.py Andrew"
      ],
      "metadata": {
        "colab": {
          "base_uri": "https://localhost:8080/"
        },
        "id": "lAlQlfvx7cOf",
        "outputId": "0c88c6d1-8197-442c-d14f-90d1c3bcc602"
      },
      "execution_count": null,
      "outputs": [
        {
          "output_type": "stream",
          "name": "stdout",
          "text": [
            "  _____________\n",
            "| hello, Andrew |\n",
            "  =============\n",
            "               \\\n",
            "                \\\n",
            "                 \\\n",
            "                  \\\n",
            "                                        / \\\\  //\\\\\n",
            "                         |\\\\___/|      /   \\\\//  \\\\\\\\\n",
            "                         /0  0  \\\\__  /    //  | \\\\ \\\\\n",
            "                        /     /  \\\\/_/    //   |  \\\\  \\\\\n",
            "                        \\@_^_\\@'/   \\\\/_   //    |   \\\\   \\\\\n",
            "                        //_^_/     \\\\/_ //     |    \\\\    \\\\\n",
            "                     ( //) |        \\\\///      |     \\\\     \\\\\n",
            "                   ( / /) _|_ /   )  //       |      \\\\     _\\\\\n",
            "                 ( // /) '/,_ _ _/  ( ; -.    |    _ _\\\\.-~        .-~~~^-.\n",
            "               (( / / )) ,-{        _      `-.|.-~-.           .~         `.\n",
            "              (( // / ))  '/\\\\      /                 ~-. _ .-~      .-~^-.  \\\\\n",
            "              (( /// ))      `.   {            }                   /      \\\\  \\\\\n",
            "               (( / ))     .----~-.\\\\        \\\\-'                 .~         \\\\  `. \\\\^-.\n",
            "                          ///.----..>        \\\\             _ -~             `.  ^-`  ^-_\n",
            "                            ///-._ _ _ _ _ _ _}^ - - - - ~                     ~-- ,.-~\n",
            "                                                                               /.-~\n"
          ]
        }
      ]
    },
    {
      "cell_type": "code",
      "source": [
        "%%writefile Argument_Itunes.py \n",
        "\n",
        "import requests\n",
        "import sys\n",
        "\n",
        "if len(sys.argv) != 2:\n",
        "  sys.exit()\n",
        "\n",
        "response = requests.get(\"https://itunes.apple.com/search?entity=song&limit=1&term=\" + sys.argv[1])\n",
        "print(response.json())"
      ],
      "metadata": {
        "colab": {
          "base_uri": "https://localhost:8080/"
        },
        "id": "0dy_0Npp70h3",
        "outputId": "86cc65a3-621e-4160-e63d-cc90e8379626"
      },
      "execution_count": null,
      "outputs": [
        {
          "output_type": "stream",
          "name": "stdout",
          "text": [
            "Writing Argument_Itunes.py\n"
          ]
        }
      ]
    },
    {
      "cell_type": "code",
      "source": [
        "%run Argument_Itunes.py Andrew "
      ],
      "metadata": {
        "colab": {
          "base_uri": "https://localhost:8080/"
        },
        "id": "nUT1C3xq-ixa",
        "outputId": "792e0d36-9cba-4aaa-f856-14a897a3da48"
      },
      "execution_count": null,
      "outputs": [
        {
          "output_type": "stream",
          "name": "stdout",
          "text": [
            "{'resultCount': 1, 'results': [{'wrapperType': 'track', 'kind': 'song', 'artistId': 351557823, 'collectionId': 431881621, 'trackId': 431881629, 'artistName': 'Jonwayne', 'collectionName': 'Bowser', 'trackName': 'Andrew', 'collectionCensoredName': 'Bowser', 'trackCensoredName': 'Andrew', 'artistViewUrl': 'https://music.apple.com/us/artist/jonwayne/351557823?uo=4', 'collectionViewUrl': 'https://music.apple.com/us/album/andrew/431881621?i=431881629&uo=4', 'trackViewUrl': 'https://music.apple.com/us/album/andrew/431881621?i=431881629&uo=4', 'previewUrl': 'https://audio-ssl.itunes.apple.com/itunes-assets/AudioPreview125/v4/c5/47/ef/c547efbd-8b7e-95b0-e62d-636fd3f51b73/mzaf_16652173762235884845.plus.aac.p.m4a', 'artworkUrl30': 'https://is1-ssl.mzstatic.com/image/thumb/Music124/v4/30/18/4b/30184b6d-5b6d-9256-1f0f-1c35aae87c9d/mzi.knbyjkmd.jpg/30x30bb.jpg', 'artworkUrl60': 'https://is1-ssl.mzstatic.com/image/thumb/Music124/v4/30/18/4b/30184b6d-5b6d-9256-1f0f-1c35aae87c9d/mzi.knbyjkmd.jpg/60x60bb.jpg', 'artworkUrl100': 'https://is1-ssl.mzstatic.com/image/thumb/Music124/v4/30/18/4b/30184b6d-5b6d-9256-1f0f-1c35aae87c9d/mzi.knbyjkmd.jpg/100x100bb.jpg', 'collectionPrice': 9.99, 'trackPrice': 0.99, 'releaseDate': '2011-04-19T12:00:00Z', 'collectionExplicitness': 'notExplicit', 'trackExplicitness': 'notExplicit', 'discCount': 1, 'discNumber': 1, 'trackCount': 19, 'trackNumber': 2, 'trackTimeMillis': 170146, 'country': 'USA', 'currency': 'USD', 'primaryGenreName': 'Electronic', 'isStreamable': True}]}\n"
          ]
        }
      ]
    },
    {
      "cell_type": "code",
      "source": [
        "%%writefile sayings.py\n",
        "\n",
        "def hello(name):\n",
        "  print(f\"hello, {name}\")\n",
        "\n",
        "def goodbye(name):\n",
        "  print(f\"goodbye, {name}\")\n"
      ],
      "metadata": {
        "colab": {
          "base_uri": "https://localhost:8080/"
        },
        "id": "k0cJMEs_-r67",
        "outputId": "6c5ccc80-94ea-4b4f-95b7-f580a8f731e3"
      },
      "execution_count": null,
      "outputs": [
        {
          "output_type": "stream",
          "name": "stdout",
          "text": [
            "Writing sayings.py\n"
          ]
        }
      ]
    },
    {
      "cell_type": "code",
      "source": [
        "%%writefile say.py\n",
        "\n",
        "import sys\n",
        "\n",
        "from sayings import goodbye\n",
        "\n",
        "if len(sys.argv) == 2:\n",
        "  goodbye(sys.argv[1])"
      ],
      "metadata": {
        "colab": {
          "base_uri": "https://localhost:8080/"
        },
        "id": "iH9l18no_9iL",
        "outputId": "486e0335-e5f1-43c8-fdd0-827ce5cfe6cf"
      },
      "execution_count": null,
      "outputs": [
        {
          "output_type": "stream",
          "name": "stdout",
          "text": [
            "Overwriting say.py\n"
          ]
        }
      ]
    },
    {
      "cell_type": "code",
      "source": [
        "%run say.py Andrew"
      ],
      "metadata": {
        "colab": {
          "base_uri": "https://localhost:8080/"
        },
        "id": "rHj0O9qPANYa",
        "outputId": "a185c3b5-03d4-4416-aef8-dd8f3465788f"
      },
      "execution_count": null,
      "outputs": [
        {
          "output_type": "stream",
          "name": "stdout",
          "text": [
            "goodbye, Andrew\n"
          ]
        }
      ]
    },
    {
      "cell_type": "code",
      "source": [
        "%%writefile andrew.py\n",
        "\n",
        "# define the system of Andrew, a function that shows how many Andrews are there\n",
        "def Andrew(number):\n",
        "  print(f\"How many Andrews?, {number}\")"
      ],
      "metadata": {
        "colab": {
          "base_uri": "https://localhost:8080/"
        },
        "id": "_bXgjGYVA2W1",
        "outputId": "f985cb9f-cc59-4686-d50f-df166020ee5e"
      },
      "execution_count": null,
      "outputs": [
        {
          "output_type": "stream",
          "name": "stdout",
          "text": [
            "Overwriting andrew.py\n"
          ]
        }
      ]
    },
    {
      "cell_type": "code",
      "source": [
        "%%writefile Andrew_Park_Example2.py\n",
        "\n",
        "#import needed libraries of system and Andrew from andrew\n",
        "import sys\n",
        "from andrew import Andrew\n",
        "\n",
        "#run the function that prints the overall fucntion \"how many Andrews?, (number)\"\n",
        "if len(sys.argv) == 2:\n",
        "  Andrew(sys.argv[1])"
      ],
      "metadata": {
        "colab": {
          "base_uri": "https://localhost:8080/"
        },
        "id": "JU7p_helBThW",
        "outputId": "e989db99-3c04-44fd-afb6-fc0ecf9db58e"
      },
      "execution_count": null,
      "outputs": [
        {
          "output_type": "stream",
          "name": "stdout",
          "text": [
            "Overwriting Andrew_Park_Example2.py\n"
          ]
        }
      ]
    },
    {
      "cell_type": "code",
      "source": [
        "%run Andrew_Park_Example2.py 3\n"
      ],
      "metadata": {
        "colab": {
          "base_uri": "https://localhost:8080/"
        },
        "id": "lgVrKWx1BhSZ",
        "outputId": "35e75023-e8a6-48f0-e6d7-e335bc10ce2a"
      },
      "execution_count": null,
      "outputs": [
        {
          "output_type": "stream",
          "name": "stdout",
          "text": [
            "How many Andrews?, 3\n"
          ]
        }
      ]
    },
    {
      "cell_type": "code",
      "source": [
        ""
      ],
      "metadata": {
        "id": "nVzt0tynCY09"
      },
      "execution_count": null,
      "outputs": []
    }
  ]
}