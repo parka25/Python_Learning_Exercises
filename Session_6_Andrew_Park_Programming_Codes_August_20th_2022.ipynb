{
  "nbformat": 4,
  "nbformat_minor": 0,
  "metadata": {
    "colab": {
      "name": "Session_6_Andrew_Park_Programming_Codes_August_20th_2022.ipynb",
      "provenance": [],
      "authorship_tag": "ABX9TyP6kiraHqxC5ZtVGFP45OWk",
      "include_colab_link": true
    },
    "kernelspec": {
      "name": "python3",
      "display_name": "Python 3"
    },
    "language_info": {
      "name": "python"
    }
  },
  "cells": [
    {
      "cell_type": "markdown",
      "metadata": {
        "id": "view-in-github",
        "colab_type": "text"
      },
      "source": [
        "<a href=\"https://colab.research.google.com/github/parka25/Test-Project/blob/main/Session_6_Andrew_Park_Programming_Codes_August_20th_2022.ipynb\" target=\"_parent\"><img src=\"https://colab.research.google.com/assets/colab-badge.svg\" alt=\"Open In Colab\"/></a>"
      ]
    },
    {
      "cell_type": "code",
      "source": [
        "email = input(\"What is your email? \").strip()\n",
        "\n",
        "if \"@\" in email:\n",
        "  print(\"Valid\")\n",
        "else:\n",
        "  print(\"Invalid\")"
      ],
      "metadata": {
        "colab": {
          "base_uri": "https://localhost:8080/"
        },
        "id": "gziN9KoZy1gD",
        "outputId": "463f6e07-8ebe-4a03-8ff6-ca25920cca46"
      },
      "execution_count": 20,
      "outputs": [
        {
          "output_type": "stream",
          "name": "stdout",
          "text": [
            "What is your email? seongmin@lionacademy.org\n",
            "Valid\n"
          ]
        }
      ]
    },
    {
      "cell_type": "code",
      "source": [
        "email = input(\"What is your email? \").strip()\n",
        "\n",
        "if \"@\" in email and \".\" in email:\n",
        "  print(\"Valid\")\n",
        "else:\n",
        "  print(\"Invalid\")"
      ],
      "metadata": {
        "colab": {
          "base_uri": "https://localhost:8080/"
        },
        "id": "22ttGlcozLJH",
        "outputId": "2b6fa378-65a6-4b64-8b3c-85b48d39bf39"
      },
      "execution_count": 21,
      "outputs": [
        {
          "output_type": "stream",
          "name": "stdout",
          "text": [
            "What is your email? s\n",
            "Invalid\n"
          ]
        }
      ]
    },
    {
      "cell_type": "code",
      "source": [
        "email = input(\"What is your email? \").strip() \n",
        "\n",
        "username, domain = email.split(\"@\")\n",
        "\n",
        "if username and \".\" in domain:\n",
        "  print(\"Valid\")\n",
        "else:\n",
        "  print(\"Invalid\")"
      ],
      "metadata": {
        "colab": {
          "base_uri": "https://localhost:8080/"
        },
        "id": "w_JnPv8-zl75",
        "outputId": "65a10cdd-cbe4-427d-b1fb-fd16ec07b691"
      },
      "execution_count": 22,
      "outputs": [
        {
          "output_type": "stream",
          "name": "stdout",
          "text": [
            "What is your email? seongmin@lionacademy.org\n",
            "Valid\n"
          ]
        }
      ]
    },
    {
      "cell_type": "code",
      "source": [
        "email = input(\"What is your email? \").strip() \n",
        "\n",
        "username, domain = email.split(\"@\") \n",
        "\n",
        "if username and domain.endswith(\".org\"):\n",
        "  print(\"Valid\")\n",
        "else:\n",
        "  print(\"Invalid\")"
      ],
      "metadata": {
        "colab": {
          "base_uri": "https://localhost:8080/"
        },
        "id": "Gl6BQkjtz1OW",
        "outputId": "8ea6dc57-c2ea-4469-fecd-2a9fd5040c9f"
      },
      "execution_count": 26,
      "outputs": [
        {
          "output_type": "stream",
          "name": "stdout",
          "text": [
            "What is your email? seongmin@lionacademy.com\n",
            "Invalid\n"
          ]
        }
      ]
    },
    {
      "cell_type": "code",
      "source": [
        "import re\n",
        "\n",
        "email = input(\"What is yor email? \").strip()\n",
        "\n",
        "if re.search(\"@\", email):\n",
        "  print(\"Valid\")\n",
        "else:\n",
        "  print(\"Invalid\")"
      ],
      "metadata": {
        "colab": {
          "base_uri": "https://localhost:8080/"
        },
        "id": "mX9k1b420efI",
        "outputId": "6452498f-c991-4941-9715-29f4f88ae1f5"
      },
      "execution_count": 32,
      "outputs": [
        {
          "output_type": "stream",
          "name": "stdout",
          "text": [
            "What is yor email? smpark25@pupils.nlcejeju.kr\n",
            "Valid\n"
          ]
        }
      ]
    },
    {
      "cell_type": "code",
      "source": [
        "import re \n",
        "\n",
        "email = input(\"What's your email? \").strip()\n",
        "\n",
        "if re.search(\".+@.+\", email):\n",
        "  print(\"Valid\")\n",
        "else:\n",
        "  print(\"Invalid\")"
      ],
      "metadata": {
        "colab": {
          "base_uri": "https://localhost:8080/"
        },
        "id": "w-GjvIai1SQd",
        "outputId": "5309eb40-4b4a-4ad8-8fdc-dd11e9407f14"
      },
      "execution_count": 37,
      "outputs": [
        {
          "output_type": "stream",
          "name": "stdout",
          "text": [
            "What's your email? smpark25@pupils.nlcejeju.kr\n",
            "Valid\n"
          ]
        }
      ]
    },
    {
      "cell_type": "code",
      "source": [
        "import re \n",
        "\n",
        "email = input(\"What's your email? \").strip()\n",
        "\n",
        "if re.search(\".+@.+.edu\", email):\n",
        "  print(\"Valid\")\n",
        "else:\n",
        "  print(\"Invalid\")"
      ],
      "metadata": {
        "colab": {
          "base_uri": "https://localhost:8080/"
        },
        "id": "dfioQcwt1wDe",
        "outputId": "86a6cca3-6808-4ff9-aa34-0b44b06fdbc2"
      },
      "execution_count": 40,
      "outputs": [
        {
          "output_type": "stream",
          "name": "stdout",
          "text": [
            "What's your email? andrew.park@gmail.edu\n",
            "Valid\n"
          ]
        }
      ]
    },
    {
      "cell_type": "code",
      "source": [
        "import re \n",
        "\n",
        "email = input(\"What's your email? \").strip()\n",
        "\n",
        "if re.search(\".+@.+\\.edu\", email):\n",
        "  print(\"Valid\")\n",
        "else:\n",
        "  print(\"Invalid\")"
      ],
      "metadata": {
        "colab": {
          "base_uri": "https://localhost:8080/"
        },
        "id": "xaKwtyY42SO7",
        "outputId": "8b90803f-7c8f-4f07-bbab-ff20c8d747d9"
      },
      "execution_count": 41,
      "outputs": [
        {
          "output_type": "stream",
          "name": "stdout",
          "text": [
            "What's your email? andrew.park@gmail.edu\n",
            "Valid\n"
          ]
        }
      ]
    },
    {
      "cell_type": "code",
      "source": [
        "import re \n",
        "\n",
        "email = input(\"What's your email? \").strip()\n",
        "\n",
        "if re.search(r\"^.+@.+\\.edu$\", email):\n",
        "  print(\"Valid\")\n",
        "else:\n",
        "  print(\"Invalid\")"
      ],
      "metadata": {
        "colab": {
          "base_uri": "https://localhost:8080/"
        },
        "id": "R9cg-XB12lKI",
        "outputId": "3b6f97a6-7de6-4667-eaf5-a859355c3653"
      },
      "execution_count": 44,
      "outputs": [
        {
          "output_type": "stream",
          "name": "stdout",
          "text": [
            "What's your email? andrew.park@gmailedu\n",
            "Invalid\n"
          ]
        }
      ]
    },
    {
      "cell_type": "code",
      "source": [
        "import re \n",
        "\n",
        "email = input(\"What's your email? \").strip()\n",
        "\n",
        "if re.search(r\"^[a-zA-Z0-9_]+@[z-zA-Z0-9_].+\\.edu$\", email):\n",
        "  print(\"Valid\")\n",
        "else:\n",
        "  print(\"Invalid\")"
      ],
      "metadata": {
        "colab": {
          "base_uri": "https://localhost:8080/"
        },
        "id": "RHh18jfa3CE-",
        "outputId": "32e64bf0-da33-4b07-dd86-eb0ee806b3dc"
      },
      "execution_count": 50,
      "outputs": [
        {
          "output_type": "stream",
          "name": "stdout",
          "text": [
            "What's your email? seongmin@lionacademy.edu\n",
            "Invalid\n"
          ]
        }
      ]
    },
    {
      "cell_type": "code",
      "source": [
        "import re \n",
        "\n",
        "email = input(\"What's your email? \").strip()\n",
        "\n",
        "if re.search(r\"^\\w+@\\w.+\\.(com|edu|gov|net|org)$\", email):\n",
        "  print(\"Valid\")\n",
        "else:\n",
        "  print(\"Invalid\")"
      ],
      "metadata": {
        "colab": {
          "base_uri": "https://localhost:8080/"
        },
        "id": "I7CLOD_X3yMR",
        "outputId": "efa5014d-d11a-4910-f5b7-4180f439c3c3"
      },
      "execution_count": 51,
      "outputs": [
        {
          "output_type": "stream",
          "name": "stdout",
          "text": [
            "What's your email? seongmin@lionacademy.org\n",
            "Valid\n"
          ]
        }
      ]
    }
  ]
}